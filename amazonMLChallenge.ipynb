{
  "nbformat": 4,
  "nbformat_minor": 0,
  "metadata": {
    "colab": {
      "name": "amazonMLChallenge.ipynb",
      "provenance": [],
      "collapsed_sections": []
    },
    "kernelspec": {
      "name": "python3",
      "display_name": "Python 3"
    },
    "language_info": {
      "name": "python"
    }
  },
  "cells": [
    {
      "cell_type": "code",
      "metadata": {
        "id": "O_AKf3xxUTmE"
      },
      "source": [
        "import pandas as pd\n",
        "import csv\n",
        "import numpy as np\n"
      ],
      "execution_count": null,
      "outputs": []
    },
    {
      "cell_type": "markdown",
      "metadata": {
        "id": "Vfde9s9OYXjf"
      },
      "source": [
        ""
      ]
    },
    {
      "cell_type": "code",
      "metadata": {
        "id": "dwRgMvQ0WSiE"
      },
      "source": [
        "df=pd.read_csv(\"/content/drive/MyDrive/amaon ml challenge/dataset/train.csv\",escapechar = \"\\\\\",quoting =csv.QUOTE_NONE)"
      ],
      "execution_count": null,
      "outputs": []
    },
    {
      "cell_type": "code",
      "metadata": {
        "id": "kQREREl7Ng-u",
        "colab": {
          "base_uri": "https://localhost:8080/",
          "height": 220
        },
        "outputId": "178b0c53-a03c-4708-a1a4-0e55cd2e88a9"
      },
      "source": [
        "print(df.shape)\n",
        "df.head()\n"
      ],
      "execution_count": null,
      "outputs": [
        {
          "output_type": "stream",
          "text": [
            "(2903024, 5)\n"
          ],
          "name": "stdout"
        },
        {
          "output_type": "execute_result",
          "data": {
            "text/html": [
              "<div>\n",
              "<style scoped>\n",
              "    .dataframe tbody tr th:only-of-type {\n",
              "        vertical-align: middle;\n",
              "    }\n",
              "\n",
              "    .dataframe tbody tr th {\n",
              "        vertical-align: top;\n",
              "    }\n",
              "\n",
              "    .dataframe thead th {\n",
              "        text-align: right;\n",
              "    }\n",
              "</style>\n",
              "<table border=\"1\" class=\"dataframe\">\n",
              "  <thead>\n",
              "    <tr style=\"text-align: right;\">\n",
              "      <th></th>\n",
              "      <th>TITLE</th>\n",
              "      <th>DESCRIPTION</th>\n",
              "      <th>BULLET_POINTS</th>\n",
              "      <th>BRAND</th>\n",
              "      <th>BROWSE_NODE_ID</th>\n",
              "    </tr>\n",
              "  </thead>\n",
              "  <tbody>\n",
              "    <tr>\n",
              "      <th>0</th>\n",
              "      <td>Pete The Cat Bedtime Blues Doll, 14.5 Inch</td>\n",
              "      <td>Pete the Cat is the coolest, most popular cat ...</td>\n",
              "      <td>[Pete the Cat Bedtime Blues plush doll,Based o...</td>\n",
              "      <td>MerryMakers</td>\n",
              "      <td>0</td>\n",
              "    </tr>\n",
              "    <tr>\n",
              "      <th>1</th>\n",
              "      <td>The New Yorker NYHM014 Refrigerator Magnet, 2 ...</td>\n",
              "      <td>The New Yorker Handsome Cello Wrapped Hard Mag...</td>\n",
              "      <td>[Cat In A Tea Cup by New Yorker cover artist G...</td>\n",
              "      <td>The New Yorker</td>\n",
              "      <td>1</td>\n",
              "    </tr>\n",
              "    <tr>\n",
              "      <th>2</th>\n",
              "      <td>The Ultimate Self-Sufficiency Handbook: A Comp...</td>\n",
              "      <td>NaN</td>\n",
              "      <td>Skyhorse Publishing</td>\n",
              "      <td>imusti</td>\n",
              "      <td>2</td>\n",
              "    </tr>\n",
              "    <tr>\n",
              "      <th>3</th>\n",
              "      <td>Amway Nutrilite Kids Chewable Iron Tablets (100)</td>\n",
              "      <td>NaN</td>\n",
              "      <td>[Nutrilite Kids,Chewable Iron Tablets,Quantity...</td>\n",
              "      <td>Amway</td>\n",
              "      <td>3</td>\n",
              "    </tr>\n",
              "    <tr>\n",
              "      <th>4</th>\n",
              "      <td>Teacher Planner Company A4 6 Lesson Academic T...</td>\n",
              "      <td>NaN</td>\n",
              "      <td>NaN</td>\n",
              "      <td>NaN</td>\n",
              "      <td>4</td>\n",
              "    </tr>\n",
              "  </tbody>\n",
              "</table>\n",
              "</div>"
            ],
            "text/plain": [
              "                                               TITLE  ... BROWSE_NODE_ID\n",
              "0         Pete The Cat Bedtime Blues Doll, 14.5 Inch  ...              0\n",
              "1  The New Yorker NYHM014 Refrigerator Magnet, 2 ...  ...              1\n",
              "2  The Ultimate Self-Sufficiency Handbook: A Comp...  ...              2\n",
              "3   Amway Nutrilite Kids Chewable Iron Tablets (100)  ...              3\n",
              "4  Teacher Planner Company A4 6 Lesson Academic T...  ...              4\n",
              "\n",
              "[5 rows x 5 columns]"
            ]
          },
          "metadata": {
            "tags": []
          },
          "execution_count": 3
        }
      ]
    },
    {
      "cell_type": "code",
      "metadata": {
        "id": "2nfRrHUPOsN-",
        "colab": {
          "base_uri": "https://localhost:8080/"
        },
        "outputId": "ea7604f0-6f6e-4e5b-de9b-93ebb481cc7c"
      },
      "source": [
        "df.info() "
      ],
      "execution_count": null,
      "outputs": [
        {
          "output_type": "stream",
          "text": [
            "<class 'pandas.core.frame.DataFrame'>\n",
            "RangeIndex: 2903024 entries, 0 to 2903023\n",
            "Data columns (total 5 columns):\n",
            " #   Column          Dtype \n",
            "---  ------          ----- \n",
            " 0   TITLE           object\n",
            " 1   DESCRIPTION     object\n",
            " 2   BULLET_POINTS   object\n",
            " 3   BRAND           object\n",
            " 4   BROWSE_NODE_ID  int64 \n",
            "dtypes: int64(1), object(4)\n",
            "memory usage: 110.7+ MB\n"
          ],
          "name": "stdout"
        }
      ]
    },
    {
      "cell_type": "code",
      "metadata": {
        "id": "fMUTq67dgjc0",
        "colab": {
          "base_uri": "https://localhost:8080/"
        },
        "outputId": "0a3246fd-72a8-42e5-c0b2-daf5a5ae3986"
      },
      "source": [
        "df.isnull().sum()"
      ],
      "execution_count": null,
      "outputs": [
        {
          "output_type": "execute_result",
          "data": {
            "text/plain": [
              "TITLE                 71\n",
              "DESCRIPTION       723664\n",
              "BULLET_POINTS     166263\n",
              "BRAND              56737\n",
              "BROWSE_NODE_ID         0\n",
              "dtype: int64"
            ]
          },
          "metadata": {
            "tags": []
          },
          "execution_count": 5
        }
      ]
    },
    {
      "cell_type": "code",
      "metadata": {
        "id": "Izf0hy2bOhl4",
        "colab": {
          "base_uri": "https://localhost:8080/"
        },
        "outputId": "a34aa89e-cdfa-4c44-ca64-18c5e2c3f80e"
      },
      "source": [
        "df.BROWSE_NODE_ID.nunique()"
      ],
      "execution_count": null,
      "outputs": [
        {
          "output_type": "execute_result",
          "data": {
            "text/plain": [
              "9919"
            ]
          },
          "metadata": {
            "tags": []
          },
          "execution_count": 6
        }
      ]
    },
    {
      "cell_type": "code",
      "metadata": {
        "id": "O0BbdWOHlazX"
      },
      "source": [
        "df.replace(\"unknown\",np.nan,inplace=True)"
      ],
      "execution_count": null,
      "outputs": []
    },
    {
      "cell_type": "code",
      "metadata": {
        "id": "27fAyYctPF9I",
        "colab": {
          "base_uri": "https://localhost:8080/"
        },
        "outputId": "416987ca-a143-4693-d21f-d691131a79c9"
      },
      "source": [
        "print(df[\"DESCRIPTION\"][1])\n",
        "print(df[\"BULLET_POINTS\"][1])"
      ],
      "execution_count": null,
      "outputs": [
        {
          "output_type": "stream",
          "text": [
            "The New Yorker Handsome Cello Wrapped Hard Magnet measures 2.5-Inch width by 3.5-Inch height and highlight one of the many beautiful New Yorker covers in full color. Cat In A Tea Cup by New Yorker cover artist Gurbuz Dogan Eksioglu\n",
            "[Cat In A Tea Cup by New Yorker cover artist Gurbuz Dogan Eksioglu,Handsome cello wrapped hard magnet,Ideal for home or office, or for a gift and for any New Yorker magazine lover,It highlight one of the many beautiful New Yorker covers in full color,Rigid magnet measures 2. 5-Inch width by 3. 5-Inch height]\n"
          ],
          "name": "stdout"
        }
      ]
    },
    {
      "cell_type": "code",
      "metadata": {
        "id": "_lXjkYvtVLM5"
      },
      "source": [
        "df['BULLET_POINTS'] = df['BULLET_POINTS'].str.replace('[', '')\n",
        "df['BULLET_POINTS'] = df['BULLET_POINTS'].str.replace(']', '')\n",
        "df['BULLET_POINTS'] = df['BULLET_POINTS'].str.replace(',', ' ')\n",
        "\n",
        "\n"
      ],
      "execution_count": null,
      "outputs": []
    },
    {
      "cell_type": "code",
      "metadata": {
        "id": "g-bGHwvfWplS",
        "colab": {
          "base_uri": "https://localhost:8080/"
        },
        "outputId": "622a985e-2fad-4b1f-8ee7-46d64b79e9f2"
      },
      "source": [
        "print(df[\"BULLET_POINTS\"][1])"
      ],
      "execution_count": null,
      "outputs": [
        {
          "output_type": "stream",
          "text": [
            "Cat In A Tea Cup by New Yorker cover artist Gurbuz Dogan Eksioglu Handsome cello wrapped hard magnet Ideal for home or office  or for a gift and for any New Yorker magazine lover It highlight one of the many beautiful New Yorker covers in full color Rigid magnet measures 2. 5-Inch width by 3. 5-Inch height\n"
          ],
          "name": "stdout"
        }
      ]
    },
    {
      "cell_type": "code",
      "metadata": {
        "id": "mv5CgWdsWxwg",
        "colab": {
          "base_uri": "https://localhost:8080/"
        },
        "outputId": "a41f94b4-7a32-44ba-e9b2-9e33788d534c"
      },
      "source": [
        "print(df[\"DESCRIPTION\"][1])\n",
        "print(df[\"BULLET_POINTS\"][1])"
      ],
      "execution_count": null,
      "outputs": [
        {
          "output_type": "stream",
          "text": [
            "The New Yorker Handsome Cello Wrapped Hard Magnet measures 2.5-Inch width by 3.5-Inch height and highlight one of the many beautiful New Yorker covers in full color. Cat In A Tea Cup by New Yorker cover artist Gurbuz Dogan Eksioglu\n",
            "Cat In A Tea Cup by New Yorker cover artist Gurbuz Dogan Eksioglu Handsome cello wrapped hard magnet Ideal for home or office  or for a gift and for any New Yorker magazine lover It highlight one of the many beautiful New Yorker covers in full color Rigid magnet measures 2. 5-Inch width by 3. 5-Inch height\n"
          ],
          "name": "stdout"
        }
      ]
    },
    {
      "cell_type": "code",
      "metadata": {
        "id": "3DM_698bY-Ow"
      },
      "source": [
        "# Replacing BULLERT_POINTS with DESCRIPTION wherever DESCRIPTION is NaN\n",
        "df.BULLET_POINTS.fillna(df.DESCRIPTION, inplace=True)\n"
      ],
      "execution_count": null,
      "outputs": []
    },
    {
      "cell_type": "code",
      "metadata": {
        "colab": {
          "base_uri": "https://localhost:8080/"
        },
        "id": "lau6L8CJaOvs",
        "outputId": "bbb88193-7bb9-4aa3-ff78-95874e9f73f9"
      },
      "source": [
        "df.isnull().sum()"
      ],
      "execution_count": null,
      "outputs": [
        {
          "output_type": "execute_result",
          "data": {
            "text/plain": [
              "TITLE                 71\n",
              "DESCRIPTION       723665\n",
              "BULLET_POINTS     103646\n",
              "BRAND              56739\n",
              "BROWSE_NODE_ID         0\n",
              "dtype: int64"
            ]
          },
          "metadata": {
            "tags": []
          },
          "execution_count": 14
        }
      ]
    },
    {
      "cell_type": "code",
      "metadata": {
        "id": "9sQmsHj4aT5Z"
      },
      "source": [
        "df.replace(np.nan,\" \",inplace=True)"
      ],
      "execution_count": null,
      "outputs": []
    },
    {
      "cell_type": "code",
      "metadata": {
        "colab": {
          "base_uri": "https://localhost:8080/",
          "height": 464
        },
        "id": "wWVzgZGMbqAw",
        "outputId": "68b44738-fb83-493f-ad1f-a61e277f8fbd"
      },
      "source": [
        "df"
      ],
      "execution_count": null,
      "outputs": [
        {
          "output_type": "execute_result",
          "data": {
            "text/html": [
              "<div>\n",
              "<style scoped>\n",
              "    .dataframe tbody tr th:only-of-type {\n",
              "        vertical-align: middle;\n",
              "    }\n",
              "\n",
              "    .dataframe tbody tr th {\n",
              "        vertical-align: top;\n",
              "    }\n",
              "\n",
              "    .dataframe thead th {\n",
              "        text-align: right;\n",
              "    }\n",
              "</style>\n",
              "<table border=\"1\" class=\"dataframe\">\n",
              "  <thead>\n",
              "    <tr style=\"text-align: right;\">\n",
              "      <th></th>\n",
              "      <th>TITLE</th>\n",
              "      <th>DESCRIPTION</th>\n",
              "      <th>BULLET_POINTS</th>\n",
              "      <th>BRAND</th>\n",
              "      <th>BROWSE_NODE_ID</th>\n",
              "    </tr>\n",
              "  </thead>\n",
              "  <tbody>\n",
              "    <tr>\n",
              "      <th>0</th>\n",
              "      <td>Pete The Cat Bedtime Blues Doll, 14.5 Inch</td>\n",
              "      <td>Pete the Cat is the coolest, most popular cat ...</td>\n",
              "      <td>Pete the Cat Bedtime Blues plush doll Based on...</td>\n",
              "      <td>MerryMakers</td>\n",
              "      <td>0</td>\n",
              "    </tr>\n",
              "    <tr>\n",
              "      <th>1</th>\n",
              "      <td>The New Yorker NYHM014 Refrigerator Magnet, 2 ...</td>\n",
              "      <td>The New Yorker Handsome Cello Wrapped Hard Mag...</td>\n",
              "      <td>Cat In A Tea Cup by New Yorker cover artist Gu...</td>\n",
              "      <td>The New Yorker</td>\n",
              "      <td>1</td>\n",
              "    </tr>\n",
              "    <tr>\n",
              "      <th>2</th>\n",
              "      <td>The Ultimate Self-Sufficiency Handbook: A Comp...</td>\n",
              "      <td></td>\n",
              "      <td>Skyhorse Publishing</td>\n",
              "      <td>imusti</td>\n",
              "      <td>2</td>\n",
              "    </tr>\n",
              "    <tr>\n",
              "      <th>3</th>\n",
              "      <td>Amway Nutrilite Kids Chewable Iron Tablets (100)</td>\n",
              "      <td></td>\n",
              "      <td>Nutrilite Kids Chewable Iron Tablets Quantity ...</td>\n",
              "      <td>Amway</td>\n",
              "      <td>3</td>\n",
              "    </tr>\n",
              "    <tr>\n",
              "      <th>4</th>\n",
              "      <td>Teacher Planner Company A4 6 Lesson Academic T...</td>\n",
              "      <td></td>\n",
              "      <td></td>\n",
              "      <td></td>\n",
              "      <td>4</td>\n",
              "    </tr>\n",
              "    <tr>\n",
              "      <th>...</th>\n",
              "      <td>...</td>\n",
              "      <td>...</td>\n",
              "      <td>...</td>\n",
              "      <td>...</td>\n",
              "      <td>...</td>\n",
              "    </tr>\n",
              "    <tr>\n",
              "      <th>2903019</th>\n",
              "      <td>Premium Aviator Sunglasses - HD Polarized (Bri...</td>\n",
              "      <td>These premium Aviator Sunglasses with 5 color ...</td>\n",
              "      <td>Frame size: Lens height - 56mm  Lens width - 5...</td>\n",
              "      <td>Generic</td>\n",
              "      <td>1040</td>\n",
              "    </tr>\n",
              "    <tr>\n",
              "      <th>2903020</th>\n",
              "      <td>Social Distance Stickers - Set of 5 Sticker Sl...</td>\n",
              "      <td>set of 5 prints social distancing sticker self...</td>\n",
              "      <td>covid19 safety sticker - set of 5 to maintain ...</td>\n",
              "      <td>Generic</td>\n",
              "      <td>15199</td>\n",
              "    </tr>\n",
              "    <tr>\n",
              "      <th>2903021</th>\n",
              "      <td>Torr-to Face Shield PACK OF 5 with Adjustable ...</td>\n",
              "      <td>* COMPLETE FACE PROTECTION: Torr-to Face Shiel...</td>\n",
              "      <td>350 MICRONS PACK OF 5 PCS COMPLETE FACE PROTEC...</td>\n",
              "      <td>TORR-TO</td>\n",
              "      <td>1044933</td>\n",
              "    </tr>\n",
              "    <tr>\n",
              "      <th>2903022</th>\n",
              "      <td>Type-C to 3.5 MM for Oppo R17 Pro Type-C to 3....</td>\n",
              "      <td>Still want to use your favorite earphones/head...</td>\n",
              "      <td>Indian Connectors: Made for Indian sockets  th...</td>\n",
              "      <td>SHOPBELL</td>\n",
              "      <td>14790</td>\n",
              "    </tr>\n",
              "    <tr>\n",
              "      <th>2903023</th>\n",
              "      <td>KNG Orange Polo Tshirt (38)</td>\n",
              "      <td>Performance inspired by comfort. The polo shir...</td>\n",
              "      <td>Performance inspired by comfort. The polo shir...</td>\n",
              "      <td>KNG</td>\n",
              "      <td>1213</td>\n",
              "    </tr>\n",
              "  </tbody>\n",
              "</table>\n",
              "<p>2903024 rows × 5 columns</p>\n",
              "</div>"
            ],
            "text/plain": [
              "                                                     TITLE  ... BROWSE_NODE_ID\n",
              "0               Pete The Cat Bedtime Blues Doll, 14.5 Inch  ...              0\n",
              "1        The New Yorker NYHM014 Refrigerator Magnet, 2 ...  ...              1\n",
              "2        The Ultimate Self-Sufficiency Handbook: A Comp...  ...              2\n",
              "3         Amway Nutrilite Kids Chewable Iron Tablets (100)  ...              3\n",
              "4        Teacher Planner Company A4 6 Lesson Academic T...  ...              4\n",
              "...                                                    ...  ...            ...\n",
              "2903019  Premium Aviator Sunglasses - HD Polarized (Bri...  ...           1040\n",
              "2903020  Social Distance Stickers - Set of 5 Sticker Sl...  ...          15199\n",
              "2903021  Torr-to Face Shield PACK OF 5 with Adjustable ...  ...        1044933\n",
              "2903022  Type-C to 3.5 MM for Oppo R17 Pro Type-C to 3....  ...          14790\n",
              "2903023                        KNG Orange Polo Tshirt (38)  ...           1213\n",
              "\n",
              "[2903024 rows x 5 columns]"
            ]
          },
          "metadata": {
            "tags": []
          },
          "execution_count": 16
        }
      ]
    },
    {
      "cell_type": "code",
      "metadata": {
        "id": "QKDXAMlGbskx"
      },
      "source": [
        "df1 = df.copy()\n",
        "df1.drop(\"DESCRIPTION\",axis=1,inplace=True)"
      ],
      "execution_count": null,
      "outputs": []
    },
    {
      "cell_type": "code",
      "metadata": {
        "colab": {
          "base_uri": "https://localhost:8080/",
          "height": 414
        },
        "id": "u1LKRndWc3L4",
        "outputId": "59bfb2e3-909c-439b-b0f8-27d74b51f0d3"
      },
      "source": [
        "df1"
      ],
      "execution_count": null,
      "outputs": [
        {
          "output_type": "execute_result",
          "data": {
            "text/html": [
              "<div>\n",
              "<style scoped>\n",
              "    .dataframe tbody tr th:only-of-type {\n",
              "        vertical-align: middle;\n",
              "    }\n",
              "\n",
              "    .dataframe tbody tr th {\n",
              "        vertical-align: top;\n",
              "    }\n",
              "\n",
              "    .dataframe thead th {\n",
              "        text-align: right;\n",
              "    }\n",
              "</style>\n",
              "<table border=\"1\" class=\"dataframe\">\n",
              "  <thead>\n",
              "    <tr style=\"text-align: right;\">\n",
              "      <th></th>\n",
              "      <th>TITLE</th>\n",
              "      <th>BULLET_POINTS</th>\n",
              "      <th>BRAND</th>\n",
              "      <th>BROWSE_NODE_ID</th>\n",
              "    </tr>\n",
              "  </thead>\n",
              "  <tbody>\n",
              "    <tr>\n",
              "      <th>0</th>\n",
              "      <td>Pete The Cat Bedtime Blues Doll, 14.5 Inch</td>\n",
              "      <td>Pete the Cat Bedtime Blues plush doll Based on...</td>\n",
              "      <td>MerryMakers</td>\n",
              "      <td>0</td>\n",
              "    </tr>\n",
              "    <tr>\n",
              "      <th>1</th>\n",
              "      <td>The New Yorker NYHM014 Refrigerator Magnet, 2 ...</td>\n",
              "      <td>Cat In A Tea Cup by New Yorker cover artist Gu...</td>\n",
              "      <td>The New Yorker</td>\n",
              "      <td>1</td>\n",
              "    </tr>\n",
              "    <tr>\n",
              "      <th>2</th>\n",
              "      <td>The Ultimate Self-Sufficiency Handbook: A Comp...</td>\n",
              "      <td>Skyhorse Publishing</td>\n",
              "      <td>imusti</td>\n",
              "      <td>2</td>\n",
              "    </tr>\n",
              "    <tr>\n",
              "      <th>3</th>\n",
              "      <td>Amway Nutrilite Kids Chewable Iron Tablets (100)</td>\n",
              "      <td>Nutrilite Kids Chewable Iron Tablets Quantity ...</td>\n",
              "      <td>Amway</td>\n",
              "      <td>3</td>\n",
              "    </tr>\n",
              "    <tr>\n",
              "      <th>4</th>\n",
              "      <td>Teacher Planner Company A4 6 Lesson Academic T...</td>\n",
              "      <td></td>\n",
              "      <td></td>\n",
              "      <td>4</td>\n",
              "    </tr>\n",
              "    <tr>\n",
              "      <th>...</th>\n",
              "      <td>...</td>\n",
              "      <td>...</td>\n",
              "      <td>...</td>\n",
              "      <td>...</td>\n",
              "    </tr>\n",
              "    <tr>\n",
              "      <th>2903019</th>\n",
              "      <td>Premium Aviator Sunglasses - HD Polarized (Bri...</td>\n",
              "      <td>Frame size: Lens height - 56mm  Lens width - 5...</td>\n",
              "      <td>Generic</td>\n",
              "      <td>1040</td>\n",
              "    </tr>\n",
              "    <tr>\n",
              "      <th>2903020</th>\n",
              "      <td>Social Distance Stickers - Set of 5 Sticker Sl...</td>\n",
              "      <td>covid19 safety sticker - set of 5 to maintain ...</td>\n",
              "      <td>Generic</td>\n",
              "      <td>15199</td>\n",
              "    </tr>\n",
              "    <tr>\n",
              "      <th>2903021</th>\n",
              "      <td>Torr-to Face Shield PACK OF 5 with Adjustable ...</td>\n",
              "      <td>350 MICRONS PACK OF 5 PCS COMPLETE FACE PROTEC...</td>\n",
              "      <td>TORR-TO</td>\n",
              "      <td>1044933</td>\n",
              "    </tr>\n",
              "    <tr>\n",
              "      <th>2903022</th>\n",
              "      <td>Type-C to 3.5 MM for Oppo R17 Pro Type-C to 3....</td>\n",
              "      <td>Indian Connectors: Made for Indian sockets  th...</td>\n",
              "      <td>SHOPBELL</td>\n",
              "      <td>14790</td>\n",
              "    </tr>\n",
              "    <tr>\n",
              "      <th>2903023</th>\n",
              "      <td>KNG Orange Polo Tshirt (38)</td>\n",
              "      <td>Performance inspired by comfort. The polo shir...</td>\n",
              "      <td>KNG</td>\n",
              "      <td>1213</td>\n",
              "    </tr>\n",
              "  </tbody>\n",
              "</table>\n",
              "<p>2903024 rows × 4 columns</p>\n",
              "</div>"
            ],
            "text/plain": [
              "                                                     TITLE  ... BROWSE_NODE_ID\n",
              "0               Pete The Cat Bedtime Blues Doll, 14.5 Inch  ...              0\n",
              "1        The New Yorker NYHM014 Refrigerator Magnet, 2 ...  ...              1\n",
              "2        The Ultimate Self-Sufficiency Handbook: A Comp...  ...              2\n",
              "3         Amway Nutrilite Kids Chewable Iron Tablets (100)  ...              3\n",
              "4        Teacher Planner Company A4 6 Lesson Academic T...  ...              4\n",
              "...                                                    ...  ...            ...\n",
              "2903019  Premium Aviator Sunglasses - HD Polarized (Bri...  ...           1040\n",
              "2903020  Social Distance Stickers - Set of 5 Sticker Sl...  ...          15199\n",
              "2903021  Torr-to Face Shield PACK OF 5 with Adjustable ...  ...        1044933\n",
              "2903022  Type-C to 3.5 MM for Oppo R17 Pro Type-C to 3....  ...          14790\n",
              "2903023                        KNG Orange Polo Tshirt (38)  ...           1213\n",
              "\n",
              "[2903024 rows x 4 columns]"
            ]
          },
          "metadata": {
            "tags": []
          },
          "execution_count": 18
        }
      ]
    },
    {
      "cell_type": "code",
      "metadata": {
        "colab": {
          "base_uri": "https://localhost:8080/"
        },
        "id": "pxhLrRTxc-dc",
        "outputId": "c10ecce0-be2f-43b9-8a83-ddef1c1ebc14"
      },
      "source": [
        "!pip install rake_nltk\n"
      ],
      "execution_count": null,
      "outputs": [
        {
          "output_type": "stream",
          "text": [
            "Requirement already satisfied: rake_nltk in /usr/local/lib/python3.7/dist-packages (1.0.4)\n",
            "Requirement already satisfied: nltk in /usr/local/lib/python3.7/dist-packages (from rake_nltk) (3.2.5)\n",
            "Requirement already satisfied: six in /usr/local/lib/python3.7/dist-packages (from nltk->rake_nltk) (1.15.0)\n"
          ],
          "name": "stdout"
        }
      ]
    },
    {
      "cell_type": "code",
      "metadata": {
        "colab": {
          "base_uri": "https://localhost:8080/"
        },
        "id": "2PuC0HuQgUId",
        "outputId": "aadf1acd-4e7d-4573-d1f6-8f29cdfe3983"
      },
      "source": [
        "from rake_nltk import Rake\n",
        "rake_nltk_var = Rake()\n",
        "\n",
        "print(df1[\"BULLET_POINTS\"][1])\n",
        "doc = rake_nltk_var.extract_keywords_from_text(df1[\"BULLET_POINTS\"][1])\n",
        "keyword_extracted = rake_nltk_var.get_ranked_phrases()\n",
        "print(\" \".join(keyword_extracted))"
      ],
      "execution_count": null,
      "outputs": [
        {
          "output_type": "stream",
          "text": [
            "Cat In A Tea Cup by New Yorker cover artist Gurbuz Dogan Eksioglu Handsome cello wrapped hard magnet Ideal for home or office  or for a gift and for any New Yorker magazine lover It highlight one of the many beautiful New Yorker covers in full color Rigid magnet measures 2. 5-Inch width by 3. 5-Inch height\n",
            "new yorker cover artist gurbuz dogan eksioglu handsome cello wrapped hard magnet ideal full color rigid magnet measures 2 many beautiful new yorker covers new yorker magazine lover tea cup inch width inch height highlight one office home gift cat 5 3\n"
          ],
          "name": "stdout"
        }
      ]
    },
    {
      "cell_type": "code",
      "metadata": {
        "colab": {
          "base_uri": "https://localhost:8080/",
          "height": 370
        },
        "id": "Fe4Gb0Sshofl",
        "outputId": "6c29c967-0401-4282-aca4-f5e8184332f9"
      },
      "source": [
        "def return_keywords(row):\n",
        "  doc = rake_nltk_var.extract_keywords_from_text(row[\"BULLET_POINTS\"])\n",
        "  keyword_extracted = rake_nltk_var.get_ranked_phrases()\n",
        "  return \" \".join(keyword_extracted)\n",
        "\n",
        "df1[\"BULLET_POINTS\"] = df1.apply(return_keywords,axis=1)\n",
        "df1"
      ],
      "execution_count": null,
      "outputs": [
        {
          "output_type": "error",
          "ename": "KeyboardInterrupt",
          "evalue": "ignored",
          "traceback": [
            "\u001b[0;31m---------------------------------------------------------------------------\u001b[0m",
            "\u001b[0;31mKeyboardInterrupt\u001b[0m                         Traceback (most recent call last)",
            "\u001b[0;32m<ipython-input-33-703e72865893>\u001b[0m in \u001b[0;36m<module>\u001b[0;34m()\u001b[0m\n\u001b[1;32m      4\u001b[0m   \u001b[0;32mreturn\u001b[0m \u001b[0;34m\" \"\u001b[0m\u001b[0;34m.\u001b[0m\u001b[0mjoin\u001b[0m\u001b[0;34m(\u001b[0m\u001b[0mkeyword_extracted\u001b[0m\u001b[0;34m)\u001b[0m\u001b[0;34m\u001b[0m\u001b[0;34m\u001b[0m\u001b[0m\n\u001b[1;32m      5\u001b[0m \u001b[0;34m\u001b[0m\u001b[0m\n\u001b[0;32m----> 6\u001b[0;31m \u001b[0mdf1\u001b[0m\u001b[0;34m[\u001b[0m\u001b[0;34m\"BULLET_POINTS\"\u001b[0m\u001b[0;34m]\u001b[0m \u001b[0;34m=\u001b[0m \u001b[0mdf1\u001b[0m\u001b[0;34m.\u001b[0m\u001b[0mapply\u001b[0m\u001b[0;34m(\u001b[0m\u001b[0mreturn_keywords\u001b[0m\u001b[0;34m,\u001b[0m\u001b[0maxis\u001b[0m\u001b[0;34m=\u001b[0m\u001b[0;36m1\u001b[0m\u001b[0;34m)\u001b[0m\u001b[0;34m\u001b[0m\u001b[0;34m\u001b[0m\u001b[0m\n\u001b[0m\u001b[1;32m      7\u001b[0m \u001b[0mdf1\u001b[0m\u001b[0;34m\u001b[0m\u001b[0;34m\u001b[0m\u001b[0m\n",
            "\u001b[0;32m/usr/local/lib/python3.7/dist-packages/pandas/core/frame.py\u001b[0m in \u001b[0;36mapply\u001b[0;34m(self, func, axis, raw, result_type, args, **kwds)\u001b[0m\n\u001b[1;32m   7550\u001b[0m             \u001b[0mkwds\u001b[0m\u001b[0;34m=\u001b[0m\u001b[0mkwds\u001b[0m\u001b[0;34m,\u001b[0m\u001b[0;34m\u001b[0m\u001b[0;34m\u001b[0m\u001b[0m\n\u001b[1;32m   7551\u001b[0m         )\n\u001b[0;32m-> 7552\u001b[0;31m         \u001b[0;32mreturn\u001b[0m \u001b[0mop\u001b[0m\u001b[0;34m.\u001b[0m\u001b[0mget_result\u001b[0m\u001b[0;34m(\u001b[0m\u001b[0;34m)\u001b[0m\u001b[0;34m\u001b[0m\u001b[0;34m\u001b[0m\u001b[0m\n\u001b[0m\u001b[1;32m   7553\u001b[0m \u001b[0;34m\u001b[0m\u001b[0m\n\u001b[1;32m   7554\u001b[0m     \u001b[0;32mdef\u001b[0m \u001b[0mapplymap\u001b[0m\u001b[0;34m(\u001b[0m\u001b[0mself\u001b[0m\u001b[0;34m,\u001b[0m \u001b[0mfunc\u001b[0m\u001b[0;34m)\u001b[0m \u001b[0;34m->\u001b[0m \u001b[0;34m\"DataFrame\"\u001b[0m\u001b[0;34m:\u001b[0m\u001b[0;34m\u001b[0m\u001b[0;34m\u001b[0m\u001b[0m\n",
            "\u001b[0;32m/usr/local/lib/python3.7/dist-packages/pandas/core/apply.py\u001b[0m in \u001b[0;36mget_result\u001b[0;34m(self)\u001b[0m\n\u001b[1;32m    183\u001b[0m             \u001b[0;32mreturn\u001b[0m \u001b[0mself\u001b[0m\u001b[0;34m.\u001b[0m\u001b[0mapply_raw\u001b[0m\u001b[0;34m(\u001b[0m\u001b[0;34m)\u001b[0m\u001b[0;34m\u001b[0m\u001b[0;34m\u001b[0m\u001b[0m\n\u001b[1;32m    184\u001b[0m \u001b[0;34m\u001b[0m\u001b[0m\n\u001b[0;32m--> 185\u001b[0;31m         \u001b[0;32mreturn\u001b[0m \u001b[0mself\u001b[0m\u001b[0;34m.\u001b[0m\u001b[0mapply_standard\u001b[0m\u001b[0;34m(\u001b[0m\u001b[0;34m)\u001b[0m\u001b[0;34m\u001b[0m\u001b[0;34m\u001b[0m\u001b[0m\n\u001b[0m\u001b[1;32m    186\u001b[0m \u001b[0;34m\u001b[0m\u001b[0m\n\u001b[1;32m    187\u001b[0m     \u001b[0;32mdef\u001b[0m \u001b[0mapply_empty_result\u001b[0m\u001b[0;34m(\u001b[0m\u001b[0mself\u001b[0m\u001b[0;34m)\u001b[0m\u001b[0;34m:\u001b[0m\u001b[0;34m\u001b[0m\u001b[0;34m\u001b[0m\u001b[0m\n",
            "\u001b[0;32m/usr/local/lib/python3.7/dist-packages/pandas/core/apply.py\u001b[0m in \u001b[0;36mapply_standard\u001b[0;34m(self)\u001b[0m\n\u001b[1;32m    274\u001b[0m \u001b[0;34m\u001b[0m\u001b[0m\n\u001b[1;32m    275\u001b[0m     \u001b[0;32mdef\u001b[0m \u001b[0mapply_standard\u001b[0m\u001b[0;34m(\u001b[0m\u001b[0mself\u001b[0m\u001b[0;34m)\u001b[0m\u001b[0;34m:\u001b[0m\u001b[0;34m\u001b[0m\u001b[0;34m\u001b[0m\u001b[0m\n\u001b[0;32m--> 276\u001b[0;31m         \u001b[0mresults\u001b[0m\u001b[0;34m,\u001b[0m \u001b[0mres_index\u001b[0m \u001b[0;34m=\u001b[0m \u001b[0mself\u001b[0m\u001b[0;34m.\u001b[0m\u001b[0mapply_series_generator\u001b[0m\u001b[0;34m(\u001b[0m\u001b[0;34m)\u001b[0m\u001b[0;34m\u001b[0m\u001b[0;34m\u001b[0m\u001b[0m\n\u001b[0m\u001b[1;32m    277\u001b[0m \u001b[0;34m\u001b[0m\u001b[0m\n\u001b[1;32m    278\u001b[0m         \u001b[0;31m# wrap results\u001b[0m\u001b[0;34m\u001b[0m\u001b[0;34m\u001b[0m\u001b[0;34m\u001b[0m\u001b[0m\n",
            "\u001b[0;32m/usr/local/lib/python3.7/dist-packages/pandas/core/apply.py\u001b[0m in \u001b[0;36mapply_series_generator\u001b[0;34m(self)\u001b[0m\n\u001b[1;32m    303\u001b[0m                 \u001b[0;32mfor\u001b[0m \u001b[0mi\u001b[0m\u001b[0;34m,\u001b[0m \u001b[0mv\u001b[0m \u001b[0;32min\u001b[0m \u001b[0menumerate\u001b[0m\u001b[0;34m(\u001b[0m\u001b[0mseries_gen\u001b[0m\u001b[0;34m)\u001b[0m\u001b[0;34m:\u001b[0m\u001b[0;34m\u001b[0m\u001b[0;34m\u001b[0m\u001b[0m\n\u001b[1;32m    304\u001b[0m                     \u001b[0;31m# ignore SettingWithCopy here in case the user mutates\u001b[0m\u001b[0;34m\u001b[0m\u001b[0;34m\u001b[0m\u001b[0;34m\u001b[0m\u001b[0m\n\u001b[0;32m--> 305\u001b[0;31m                     \u001b[0mresults\u001b[0m\u001b[0;34m[\u001b[0m\u001b[0mi\u001b[0m\u001b[0;34m]\u001b[0m \u001b[0;34m=\u001b[0m \u001b[0mself\u001b[0m\u001b[0;34m.\u001b[0m\u001b[0mf\u001b[0m\u001b[0;34m(\u001b[0m\u001b[0mv\u001b[0m\u001b[0;34m)\u001b[0m\u001b[0;34m\u001b[0m\u001b[0;34m\u001b[0m\u001b[0m\n\u001b[0m\u001b[1;32m    306\u001b[0m                     \u001b[0;32mif\u001b[0m \u001b[0misinstance\u001b[0m\u001b[0;34m(\u001b[0m\u001b[0mresults\u001b[0m\u001b[0;34m[\u001b[0m\u001b[0mi\u001b[0m\u001b[0;34m]\u001b[0m\u001b[0;34m,\u001b[0m \u001b[0mABCSeries\u001b[0m\u001b[0;34m)\u001b[0m\u001b[0;34m:\u001b[0m\u001b[0;34m\u001b[0m\u001b[0;34m\u001b[0m\u001b[0m\n\u001b[1;32m    307\u001b[0m                         \u001b[0;31m# If we have a view on v, we need to make a copy because\u001b[0m\u001b[0;34m\u001b[0m\u001b[0;34m\u001b[0m\u001b[0;34m\u001b[0m\u001b[0m\n",
            "\u001b[0;32m<ipython-input-33-703e72865893>\u001b[0m in \u001b[0;36mreturn_keywords\u001b[0;34m(row)\u001b[0m\n\u001b[1;32m      1\u001b[0m \u001b[0;32mdef\u001b[0m \u001b[0mreturn_keywords\u001b[0m\u001b[0;34m(\u001b[0m\u001b[0mrow\u001b[0m\u001b[0;34m)\u001b[0m\u001b[0;34m:\u001b[0m\u001b[0;34m\u001b[0m\u001b[0;34m\u001b[0m\u001b[0m\n\u001b[0;32m----> 2\u001b[0;31m   \u001b[0mdoc\u001b[0m \u001b[0;34m=\u001b[0m \u001b[0mrake_nltk_var\u001b[0m\u001b[0;34m.\u001b[0m\u001b[0mextract_keywords_from_text\u001b[0m\u001b[0;34m(\u001b[0m\u001b[0mrow\u001b[0m\u001b[0;34m[\u001b[0m\u001b[0;34m\"BULLET_POINTS\"\u001b[0m\u001b[0;34m]\u001b[0m\u001b[0;34m)\u001b[0m\u001b[0;34m\u001b[0m\u001b[0;34m\u001b[0m\u001b[0m\n\u001b[0m\u001b[1;32m      3\u001b[0m   \u001b[0mkeyword_extracted\u001b[0m \u001b[0;34m=\u001b[0m \u001b[0mrake_nltk_var\u001b[0m\u001b[0;34m.\u001b[0m\u001b[0mget_ranked_phrases\u001b[0m\u001b[0;34m(\u001b[0m\u001b[0;34m)\u001b[0m\u001b[0;34m\u001b[0m\u001b[0;34m\u001b[0m\u001b[0m\n\u001b[1;32m      4\u001b[0m   \u001b[0;32mreturn\u001b[0m \u001b[0;34m\" \"\u001b[0m\u001b[0;34m.\u001b[0m\u001b[0mjoin\u001b[0m\u001b[0;34m(\u001b[0m\u001b[0mkeyword_extracted\u001b[0m\u001b[0;34m)\u001b[0m\u001b[0;34m\u001b[0m\u001b[0;34m\u001b[0m\u001b[0m\n\u001b[1;32m      5\u001b[0m \u001b[0;34m\u001b[0m\u001b[0m\n",
            "\u001b[0;32m/usr/local/lib/python3.7/dist-packages/rake_nltk/rake.py\u001b[0m in \u001b[0;36mextract_keywords_from_text\u001b[0;34m(self, text)\u001b[0m\n\u001b[1;32m     79\u001b[0m         \u001b[0;34m:\u001b[0m\u001b[0mparam\u001b[0m \u001b[0mtext\u001b[0m\u001b[0;34m:\u001b[0m \u001b[0mText\u001b[0m \u001b[0mto\u001b[0m \u001b[0mextract\u001b[0m \u001b[0mkeywords\u001b[0m \u001b[0;32mfrom\u001b[0m\u001b[0;34m,\u001b[0m \u001b[0mprovided\u001b[0m \u001b[0;32mas\u001b[0m \u001b[0ma\u001b[0m \u001b[0mstring\u001b[0m\u001b[0;34m.\u001b[0m\u001b[0;34m\u001b[0m\u001b[0;34m\u001b[0m\u001b[0m\n\u001b[1;32m     80\u001b[0m         \"\"\"\n\u001b[0;32m---> 81\u001b[0;31m         \u001b[0msentences\u001b[0m \u001b[0;34m=\u001b[0m \u001b[0mnltk\u001b[0m\u001b[0;34m.\u001b[0m\u001b[0mtokenize\u001b[0m\u001b[0;34m.\u001b[0m\u001b[0msent_tokenize\u001b[0m\u001b[0;34m(\u001b[0m\u001b[0mtext\u001b[0m\u001b[0;34m)\u001b[0m\u001b[0;34m\u001b[0m\u001b[0;34m\u001b[0m\u001b[0m\n\u001b[0m\u001b[1;32m     82\u001b[0m         \u001b[0mself\u001b[0m\u001b[0;34m.\u001b[0m\u001b[0mextract_keywords_from_sentences\u001b[0m\u001b[0;34m(\u001b[0m\u001b[0msentences\u001b[0m\u001b[0;34m)\u001b[0m\u001b[0;34m\u001b[0m\u001b[0;34m\u001b[0m\u001b[0m\n\u001b[1;32m     83\u001b[0m \u001b[0;34m\u001b[0m\u001b[0m\n",
            "\u001b[0;32m/usr/local/lib/python3.7/dist-packages/nltk/tokenize/__init__.py\u001b[0m in \u001b[0;36msent_tokenize\u001b[0;34m(text, language)\u001b[0m\n\u001b[1;32m     93\u001b[0m     \"\"\"\n\u001b[1;32m     94\u001b[0m     \u001b[0mtokenizer\u001b[0m \u001b[0;34m=\u001b[0m \u001b[0mload\u001b[0m\u001b[0;34m(\u001b[0m\u001b[0;34m'tokenizers/punkt/{0}.pickle'\u001b[0m\u001b[0;34m.\u001b[0m\u001b[0mformat\u001b[0m\u001b[0;34m(\u001b[0m\u001b[0mlanguage\u001b[0m\u001b[0;34m)\u001b[0m\u001b[0;34m)\u001b[0m\u001b[0;34m\u001b[0m\u001b[0;34m\u001b[0m\u001b[0m\n\u001b[0;32m---> 95\u001b[0;31m     \u001b[0;32mreturn\u001b[0m \u001b[0mtokenizer\u001b[0m\u001b[0;34m.\u001b[0m\u001b[0mtokenize\u001b[0m\u001b[0;34m(\u001b[0m\u001b[0mtext\u001b[0m\u001b[0;34m)\u001b[0m\u001b[0;34m\u001b[0m\u001b[0;34m\u001b[0m\u001b[0m\n\u001b[0m\u001b[1;32m     96\u001b[0m \u001b[0;34m\u001b[0m\u001b[0m\n\u001b[1;32m     97\u001b[0m \u001b[0;31m# Standard word tokenizer.\u001b[0m\u001b[0;34m\u001b[0m\u001b[0;34m\u001b[0m\u001b[0;34m\u001b[0m\u001b[0m\n",
            "\u001b[0;32m/usr/local/lib/python3.7/dist-packages/nltk/tokenize/punkt.py\u001b[0m in \u001b[0;36mtokenize\u001b[0;34m(self, text, realign_boundaries)\u001b[0m\n\u001b[1;32m   1235\u001b[0m         \u001b[0mGiven\u001b[0m \u001b[0ma\u001b[0m \u001b[0mtext\u001b[0m\u001b[0;34m,\u001b[0m \u001b[0mreturns\u001b[0m \u001b[0ma\u001b[0m \u001b[0mlist\u001b[0m \u001b[0mof\u001b[0m \u001b[0mthe\u001b[0m \u001b[0msentences\u001b[0m \u001b[0;32min\u001b[0m \u001b[0mthat\u001b[0m \u001b[0mtext\u001b[0m\u001b[0;34m.\u001b[0m\u001b[0;34m\u001b[0m\u001b[0;34m\u001b[0m\u001b[0m\n\u001b[1;32m   1236\u001b[0m         \"\"\"\n\u001b[0;32m-> 1237\u001b[0;31m         \u001b[0;32mreturn\u001b[0m \u001b[0mlist\u001b[0m\u001b[0;34m(\u001b[0m\u001b[0mself\u001b[0m\u001b[0;34m.\u001b[0m\u001b[0msentences_from_text\u001b[0m\u001b[0;34m(\u001b[0m\u001b[0mtext\u001b[0m\u001b[0;34m,\u001b[0m \u001b[0mrealign_boundaries\u001b[0m\u001b[0;34m)\u001b[0m\u001b[0;34m)\u001b[0m\u001b[0;34m\u001b[0m\u001b[0;34m\u001b[0m\u001b[0m\n\u001b[0m\u001b[1;32m   1238\u001b[0m \u001b[0;34m\u001b[0m\u001b[0m\n\u001b[1;32m   1239\u001b[0m     \u001b[0;32mdef\u001b[0m \u001b[0mdebug_decisions\u001b[0m\u001b[0;34m(\u001b[0m\u001b[0mself\u001b[0m\u001b[0;34m,\u001b[0m \u001b[0mtext\u001b[0m\u001b[0;34m)\u001b[0m\u001b[0;34m:\u001b[0m\u001b[0;34m\u001b[0m\u001b[0;34m\u001b[0m\u001b[0m\n",
            "\u001b[0;32m/usr/local/lib/python3.7/dist-packages/nltk/tokenize/punkt.py\u001b[0m in \u001b[0;36msentences_from_text\u001b[0;34m(self, text, realign_boundaries)\u001b[0m\n\u001b[1;32m   1283\u001b[0m         \u001b[0mfollows\u001b[0m \u001b[0mthe\u001b[0m \u001b[0mperiod\u001b[0m\u001b[0;34m.\u001b[0m\u001b[0;34m\u001b[0m\u001b[0;34m\u001b[0m\u001b[0m\n\u001b[1;32m   1284\u001b[0m         \"\"\"\n\u001b[0;32m-> 1285\u001b[0;31m         \u001b[0;32mreturn\u001b[0m \u001b[0;34m[\u001b[0m\u001b[0mtext\u001b[0m\u001b[0;34m[\u001b[0m\u001b[0ms\u001b[0m\u001b[0;34m:\u001b[0m\u001b[0me\u001b[0m\u001b[0;34m]\u001b[0m \u001b[0;32mfor\u001b[0m \u001b[0ms\u001b[0m\u001b[0;34m,\u001b[0m \u001b[0me\u001b[0m \u001b[0;32min\u001b[0m \u001b[0mself\u001b[0m\u001b[0;34m.\u001b[0m\u001b[0mspan_tokenize\u001b[0m\u001b[0;34m(\u001b[0m\u001b[0mtext\u001b[0m\u001b[0;34m,\u001b[0m \u001b[0mrealign_boundaries\u001b[0m\u001b[0;34m)\u001b[0m\u001b[0;34m]\u001b[0m\u001b[0;34m\u001b[0m\u001b[0;34m\u001b[0m\u001b[0m\n\u001b[0m\u001b[1;32m   1286\u001b[0m \u001b[0;34m\u001b[0m\u001b[0m\n\u001b[1;32m   1287\u001b[0m     \u001b[0;32mdef\u001b[0m \u001b[0m_slices_from_text\u001b[0m\u001b[0;34m(\u001b[0m\u001b[0mself\u001b[0m\u001b[0;34m,\u001b[0m \u001b[0mtext\u001b[0m\u001b[0;34m)\u001b[0m\u001b[0;34m:\u001b[0m\u001b[0;34m\u001b[0m\u001b[0;34m\u001b[0m\u001b[0m\n",
            "\u001b[0;32m/usr/local/lib/python3.7/dist-packages/nltk/tokenize/punkt.py\u001b[0m in \u001b[0;36mspan_tokenize\u001b[0;34m(self, text, realign_boundaries)\u001b[0m\n\u001b[1;32m   1274\u001b[0m         \u001b[0;32mif\u001b[0m \u001b[0mrealign_boundaries\u001b[0m\u001b[0;34m:\u001b[0m\u001b[0;34m\u001b[0m\u001b[0;34m\u001b[0m\u001b[0m\n\u001b[1;32m   1275\u001b[0m             \u001b[0mslices\u001b[0m \u001b[0;34m=\u001b[0m \u001b[0mself\u001b[0m\u001b[0;34m.\u001b[0m\u001b[0m_realign_boundaries\u001b[0m\u001b[0;34m(\u001b[0m\u001b[0mtext\u001b[0m\u001b[0;34m,\u001b[0m \u001b[0mslices\u001b[0m\u001b[0;34m)\u001b[0m\u001b[0;34m\u001b[0m\u001b[0;34m\u001b[0m\u001b[0m\n\u001b[0;32m-> 1276\u001b[0;31m         \u001b[0;32mreturn\u001b[0m \u001b[0;34m[\u001b[0m\u001b[0;34m(\u001b[0m\u001b[0msl\u001b[0m\u001b[0;34m.\u001b[0m\u001b[0mstart\u001b[0m\u001b[0;34m,\u001b[0m \u001b[0msl\u001b[0m\u001b[0;34m.\u001b[0m\u001b[0mstop\u001b[0m\u001b[0;34m)\u001b[0m \u001b[0;32mfor\u001b[0m \u001b[0msl\u001b[0m \u001b[0;32min\u001b[0m \u001b[0mslices\u001b[0m\u001b[0;34m]\u001b[0m\u001b[0;34m\u001b[0m\u001b[0;34m\u001b[0m\u001b[0m\n\u001b[0m\u001b[1;32m   1277\u001b[0m \u001b[0;34m\u001b[0m\u001b[0m\n\u001b[1;32m   1278\u001b[0m     \u001b[0;32mdef\u001b[0m \u001b[0msentences_from_text\u001b[0m\u001b[0;34m(\u001b[0m\u001b[0mself\u001b[0m\u001b[0;34m,\u001b[0m \u001b[0mtext\u001b[0m\u001b[0;34m,\u001b[0m \u001b[0mrealign_boundaries\u001b[0m\u001b[0;34m=\u001b[0m\u001b[0;32mTrue\u001b[0m\u001b[0;34m)\u001b[0m\u001b[0;34m:\u001b[0m\u001b[0;34m\u001b[0m\u001b[0;34m\u001b[0m\u001b[0m\n",
            "\u001b[0;32m/usr/local/lib/python3.7/dist-packages/nltk/tokenize/punkt.py\u001b[0m in \u001b[0;36m<listcomp>\u001b[0;34m(.0)\u001b[0m\n\u001b[1;32m   1274\u001b[0m         \u001b[0;32mif\u001b[0m \u001b[0mrealign_boundaries\u001b[0m\u001b[0;34m:\u001b[0m\u001b[0;34m\u001b[0m\u001b[0;34m\u001b[0m\u001b[0m\n\u001b[1;32m   1275\u001b[0m             \u001b[0mslices\u001b[0m \u001b[0;34m=\u001b[0m \u001b[0mself\u001b[0m\u001b[0;34m.\u001b[0m\u001b[0m_realign_boundaries\u001b[0m\u001b[0;34m(\u001b[0m\u001b[0mtext\u001b[0m\u001b[0;34m,\u001b[0m \u001b[0mslices\u001b[0m\u001b[0;34m)\u001b[0m\u001b[0;34m\u001b[0m\u001b[0;34m\u001b[0m\u001b[0m\n\u001b[0;32m-> 1276\u001b[0;31m         \u001b[0;32mreturn\u001b[0m \u001b[0;34m[\u001b[0m\u001b[0;34m(\u001b[0m\u001b[0msl\u001b[0m\u001b[0;34m.\u001b[0m\u001b[0mstart\u001b[0m\u001b[0;34m,\u001b[0m \u001b[0msl\u001b[0m\u001b[0;34m.\u001b[0m\u001b[0mstop\u001b[0m\u001b[0;34m)\u001b[0m \u001b[0;32mfor\u001b[0m \u001b[0msl\u001b[0m \u001b[0;32min\u001b[0m \u001b[0mslices\u001b[0m\u001b[0;34m]\u001b[0m\u001b[0;34m\u001b[0m\u001b[0;34m\u001b[0m\u001b[0m\n\u001b[0m\u001b[1;32m   1277\u001b[0m \u001b[0;34m\u001b[0m\u001b[0m\n\u001b[1;32m   1278\u001b[0m     \u001b[0;32mdef\u001b[0m \u001b[0msentences_from_text\u001b[0m\u001b[0;34m(\u001b[0m\u001b[0mself\u001b[0m\u001b[0;34m,\u001b[0m \u001b[0mtext\u001b[0m\u001b[0;34m,\u001b[0m \u001b[0mrealign_boundaries\u001b[0m\u001b[0;34m=\u001b[0m\u001b[0;32mTrue\u001b[0m\u001b[0;34m)\u001b[0m\u001b[0;34m:\u001b[0m\u001b[0;34m\u001b[0m\u001b[0;34m\u001b[0m\u001b[0m\n",
            "\u001b[0;32m/usr/local/lib/python3.7/dist-packages/nltk/tokenize/punkt.py\u001b[0m in \u001b[0;36m_realign_boundaries\u001b[0;34m(self, text, slices)\u001b[0m\n\u001b[1;32m   1314\u001b[0m         \"\"\"\n\u001b[1;32m   1315\u001b[0m         \u001b[0mrealign\u001b[0m \u001b[0;34m=\u001b[0m \u001b[0;36m0\u001b[0m\u001b[0;34m\u001b[0m\u001b[0;34m\u001b[0m\u001b[0m\n\u001b[0;32m-> 1316\u001b[0;31m         \u001b[0;32mfor\u001b[0m \u001b[0msl1\u001b[0m\u001b[0;34m,\u001b[0m \u001b[0msl2\u001b[0m \u001b[0;32min\u001b[0m \u001b[0m_pair_iter\u001b[0m\u001b[0;34m(\u001b[0m\u001b[0mslices\u001b[0m\u001b[0;34m)\u001b[0m\u001b[0;34m:\u001b[0m\u001b[0;34m\u001b[0m\u001b[0;34m\u001b[0m\u001b[0m\n\u001b[0m\u001b[1;32m   1317\u001b[0m             \u001b[0msl1\u001b[0m \u001b[0;34m=\u001b[0m \u001b[0mslice\u001b[0m\u001b[0;34m(\u001b[0m\u001b[0msl1\u001b[0m\u001b[0;34m.\u001b[0m\u001b[0mstart\u001b[0m \u001b[0;34m+\u001b[0m \u001b[0mrealign\u001b[0m\u001b[0;34m,\u001b[0m \u001b[0msl1\u001b[0m\u001b[0;34m.\u001b[0m\u001b[0mstop\u001b[0m\u001b[0;34m)\u001b[0m\u001b[0;34m\u001b[0m\u001b[0;34m\u001b[0m\u001b[0m\n\u001b[1;32m   1318\u001b[0m             \u001b[0;32mif\u001b[0m \u001b[0;32mnot\u001b[0m \u001b[0msl2\u001b[0m\u001b[0;34m:\u001b[0m\u001b[0;34m\u001b[0m\u001b[0;34m\u001b[0m\u001b[0m\n",
            "\u001b[0;32m/usr/local/lib/python3.7/dist-packages/nltk/tokenize/punkt.py\u001b[0m in \u001b[0;36m_pair_iter\u001b[0;34m(it)\u001b[0m\n\u001b[1;32m    311\u001b[0m     \u001b[0mit\u001b[0m \u001b[0;34m=\u001b[0m \u001b[0miter\u001b[0m\u001b[0;34m(\u001b[0m\u001b[0mit\u001b[0m\u001b[0;34m)\u001b[0m\u001b[0;34m\u001b[0m\u001b[0;34m\u001b[0m\u001b[0m\n\u001b[1;32m    312\u001b[0m     \u001b[0mprev\u001b[0m \u001b[0;34m=\u001b[0m \u001b[0mnext\u001b[0m\u001b[0;34m(\u001b[0m\u001b[0mit\u001b[0m\u001b[0;34m)\u001b[0m\u001b[0;34m\u001b[0m\u001b[0;34m\u001b[0m\u001b[0m\n\u001b[0;32m--> 313\u001b[0;31m     \u001b[0;32mfor\u001b[0m \u001b[0mel\u001b[0m \u001b[0;32min\u001b[0m \u001b[0mit\u001b[0m\u001b[0;34m:\u001b[0m\u001b[0;34m\u001b[0m\u001b[0;34m\u001b[0m\u001b[0m\n\u001b[0m\u001b[1;32m    314\u001b[0m         \u001b[0;32myield\u001b[0m \u001b[0;34m(\u001b[0m\u001b[0mprev\u001b[0m\u001b[0;34m,\u001b[0m \u001b[0mel\u001b[0m\u001b[0;34m)\u001b[0m\u001b[0;34m\u001b[0m\u001b[0;34m\u001b[0m\u001b[0m\n\u001b[1;32m    315\u001b[0m         \u001b[0mprev\u001b[0m \u001b[0;34m=\u001b[0m \u001b[0mel\u001b[0m\u001b[0;34m\u001b[0m\u001b[0;34m\u001b[0m\u001b[0m\n",
            "\u001b[0;32m/usr/local/lib/python3.7/dist-packages/nltk/tokenize/punkt.py\u001b[0m in \u001b[0;36m_slices_from_text\u001b[0;34m(self, text)\u001b[0m\n\u001b[1;32m   1289\u001b[0m         \u001b[0;32mfor\u001b[0m \u001b[0mmatch\u001b[0m \u001b[0;32min\u001b[0m \u001b[0mself\u001b[0m\u001b[0;34m.\u001b[0m\u001b[0m_lang_vars\u001b[0m\u001b[0;34m.\u001b[0m\u001b[0mperiod_context_re\u001b[0m\u001b[0;34m(\u001b[0m\u001b[0;34m)\u001b[0m\u001b[0;34m.\u001b[0m\u001b[0mfinditer\u001b[0m\u001b[0;34m(\u001b[0m\u001b[0mtext\u001b[0m\u001b[0;34m)\u001b[0m\u001b[0;34m:\u001b[0m\u001b[0;34m\u001b[0m\u001b[0;34m\u001b[0m\u001b[0m\n\u001b[1;32m   1290\u001b[0m             \u001b[0mcontext\u001b[0m \u001b[0;34m=\u001b[0m \u001b[0mmatch\u001b[0m\u001b[0;34m.\u001b[0m\u001b[0mgroup\u001b[0m\u001b[0;34m(\u001b[0m\u001b[0;34m)\u001b[0m \u001b[0;34m+\u001b[0m \u001b[0mmatch\u001b[0m\u001b[0;34m.\u001b[0m\u001b[0mgroup\u001b[0m\u001b[0;34m(\u001b[0m\u001b[0;34m'after_tok'\u001b[0m\u001b[0;34m)\u001b[0m\u001b[0;34m\u001b[0m\u001b[0;34m\u001b[0m\u001b[0m\n\u001b[0;32m-> 1291\u001b[0;31m             \u001b[0;32mif\u001b[0m \u001b[0mself\u001b[0m\u001b[0;34m.\u001b[0m\u001b[0mtext_contains_sentbreak\u001b[0m\u001b[0;34m(\u001b[0m\u001b[0mcontext\u001b[0m\u001b[0;34m)\u001b[0m\u001b[0;34m:\u001b[0m\u001b[0;34m\u001b[0m\u001b[0;34m\u001b[0m\u001b[0m\n\u001b[0m\u001b[1;32m   1292\u001b[0m                 \u001b[0;32myield\u001b[0m \u001b[0mslice\u001b[0m\u001b[0;34m(\u001b[0m\u001b[0mlast_break\u001b[0m\u001b[0;34m,\u001b[0m \u001b[0mmatch\u001b[0m\u001b[0;34m.\u001b[0m\u001b[0mend\u001b[0m\u001b[0;34m(\u001b[0m\u001b[0;34m)\u001b[0m\u001b[0;34m)\u001b[0m\u001b[0;34m\u001b[0m\u001b[0;34m\u001b[0m\u001b[0m\n\u001b[1;32m   1293\u001b[0m                 \u001b[0;32mif\u001b[0m \u001b[0mmatch\u001b[0m\u001b[0;34m.\u001b[0m\u001b[0mgroup\u001b[0m\u001b[0;34m(\u001b[0m\u001b[0;34m'next_tok'\u001b[0m\u001b[0;34m)\u001b[0m\u001b[0;34m:\u001b[0m\u001b[0;34m\u001b[0m\u001b[0;34m\u001b[0m\u001b[0m\n",
            "\u001b[0;32m/usr/local/lib/python3.7/dist-packages/nltk/tokenize/punkt.py\u001b[0m in \u001b[0;36mtext_contains_sentbreak\u001b[0;34m(self, text)\u001b[0m\n\u001b[1;32m   1335\u001b[0m         \"\"\"\n\u001b[1;32m   1336\u001b[0m         \u001b[0mfound\u001b[0m \u001b[0;34m=\u001b[0m \u001b[0;32mFalse\u001b[0m \u001b[0;31m# used to ignore last token\u001b[0m\u001b[0;34m\u001b[0m\u001b[0;34m\u001b[0m\u001b[0m\n\u001b[0;32m-> 1337\u001b[0;31m         \u001b[0;32mfor\u001b[0m \u001b[0mt\u001b[0m \u001b[0;32min\u001b[0m \u001b[0mself\u001b[0m\u001b[0;34m.\u001b[0m\u001b[0m_annotate_tokens\u001b[0m\u001b[0;34m(\u001b[0m\u001b[0mself\u001b[0m\u001b[0;34m.\u001b[0m\u001b[0m_tokenize_words\u001b[0m\u001b[0;34m(\u001b[0m\u001b[0mtext\u001b[0m\u001b[0;34m)\u001b[0m\u001b[0;34m)\u001b[0m\u001b[0;34m:\u001b[0m\u001b[0;34m\u001b[0m\u001b[0;34m\u001b[0m\u001b[0m\n\u001b[0m\u001b[1;32m   1338\u001b[0m             \u001b[0;32mif\u001b[0m \u001b[0mfound\u001b[0m\u001b[0;34m:\u001b[0m\u001b[0;34m\u001b[0m\u001b[0;34m\u001b[0m\u001b[0m\n\u001b[1;32m   1339\u001b[0m                 \u001b[0;32mreturn\u001b[0m \u001b[0;32mTrue\u001b[0m\u001b[0;34m\u001b[0m\u001b[0;34m\u001b[0m\u001b[0m\n",
            "\u001b[0;32m/usr/local/lib/python3.7/dist-packages/nltk/tokenize/punkt.py\u001b[0m in \u001b[0;36m_annotate_second_pass\u001b[0;34m(self, tokens)\u001b[0m\n\u001b[1;32m   1471\u001b[0m         \"\"\"\n\u001b[1;32m   1472\u001b[0m         \u001b[0;32mfor\u001b[0m \u001b[0mt1\u001b[0m\u001b[0;34m,\u001b[0m \u001b[0mt2\u001b[0m \u001b[0;32min\u001b[0m \u001b[0m_pair_iter\u001b[0m\u001b[0;34m(\u001b[0m\u001b[0mtokens\u001b[0m\u001b[0;34m)\u001b[0m\u001b[0;34m:\u001b[0m\u001b[0;34m\u001b[0m\u001b[0;34m\u001b[0m\u001b[0m\n\u001b[0;32m-> 1473\u001b[0;31m             \u001b[0mself\u001b[0m\u001b[0;34m.\u001b[0m\u001b[0m_second_pass_annotation\u001b[0m\u001b[0;34m(\u001b[0m\u001b[0mt1\u001b[0m\u001b[0;34m,\u001b[0m \u001b[0mt2\u001b[0m\u001b[0;34m)\u001b[0m\u001b[0;34m\u001b[0m\u001b[0;34m\u001b[0m\u001b[0m\n\u001b[0m\u001b[1;32m   1474\u001b[0m             \u001b[0;32myield\u001b[0m \u001b[0mt1\u001b[0m\u001b[0;34m\u001b[0m\u001b[0;34m\u001b[0m\u001b[0m\n\u001b[1;32m   1475\u001b[0m \u001b[0;34m\u001b[0m\u001b[0m\n",
            "\u001b[0;32m/usr/local/lib/python3.7/dist-packages/nltk/tokenize/punkt.py\u001b[0m in \u001b[0;36m_second_pass_annotation\u001b[0;34m(self, aug_tok1, aug_tok2)\u001b[0m\n\u001b[1;32m   1499\u001b[0m         \u001b[0;31m# frequent sentence starters as their second word are\u001b[0m\u001b[0;34m\u001b[0m\u001b[0;34m\u001b[0m\u001b[0;34m\u001b[0m\u001b[0m\n\u001b[1;32m   1500\u001b[0m         \u001b[0;31m# excluded in training.\u001b[0m\u001b[0;34m\u001b[0m\u001b[0;34m\u001b[0m\u001b[0;34m\u001b[0m\u001b[0m\n\u001b[0;32m-> 1501\u001b[0;31m         \u001b[0;32mif\u001b[0m \u001b[0;34m(\u001b[0m\u001b[0mtyp\u001b[0m\u001b[0;34m,\u001b[0m \u001b[0mnext_typ\u001b[0m\u001b[0;34m)\u001b[0m \u001b[0;32min\u001b[0m \u001b[0mself\u001b[0m\u001b[0;34m.\u001b[0m\u001b[0m_params\u001b[0m\u001b[0;34m.\u001b[0m\u001b[0mcollocations\u001b[0m\u001b[0;34m:\u001b[0m\u001b[0;34m\u001b[0m\u001b[0;34m\u001b[0m\u001b[0m\n\u001b[0m\u001b[1;32m   1502\u001b[0m             \u001b[0maug_tok1\u001b[0m\u001b[0;34m.\u001b[0m\u001b[0msentbreak\u001b[0m \u001b[0;34m=\u001b[0m \u001b[0;32mFalse\u001b[0m\u001b[0;34m\u001b[0m\u001b[0;34m\u001b[0m\u001b[0m\n\u001b[1;32m   1503\u001b[0m             \u001b[0maug_tok1\u001b[0m\u001b[0;34m.\u001b[0m\u001b[0mabbr\u001b[0m \u001b[0;34m=\u001b[0m \u001b[0;32mTrue\u001b[0m\u001b[0;34m\u001b[0m\u001b[0;34m\u001b[0m\u001b[0m\n",
            "\u001b[0;31mKeyboardInterrupt\u001b[0m: "
          ]
        }
      ]
    },
    {
      "cell_type": "code",
      "metadata": {
        "id": "VUMQZR3ljuZq"
      },
      "source": [
        "import pandas as pd \n",
        "import numpy as np\n",
        "df1=pd.read_csv(\"/content/drive/MyDrive/amaon ml challenge/dataset/KeywordedBulletPoints.csv\")"
      ],
      "execution_count": null,
      "outputs": []
    },
    {
      "cell_type": "code",
      "metadata": {
        "colab": {
          "base_uri": "https://localhost:8080/",
          "height": 414
        },
        "id": "xzlfhF-ioqdP",
        "outputId": "a7c3ecef-b40f-4c8a-c307-c7531bcfac7b"
      },
      "source": [
        "df1"
      ],
      "execution_count": null,
      "outputs": [
        {
          "output_type": "execute_result",
          "data": {
            "text/html": [
              "<div>\n",
              "<style scoped>\n",
              "    .dataframe tbody tr th:only-of-type {\n",
              "        vertical-align: middle;\n",
              "    }\n",
              "\n",
              "    .dataframe tbody tr th {\n",
              "        vertical-align: top;\n",
              "    }\n",
              "\n",
              "    .dataframe thead th {\n",
              "        text-align: right;\n",
              "    }\n",
              "</style>\n",
              "<table border=\"1\" class=\"dataframe\">\n",
              "  <thead>\n",
              "    <tr style=\"text-align: right;\">\n",
              "      <th></th>\n",
              "      <th>Unnamed: 0</th>\n",
              "      <th>TITLE</th>\n",
              "      <th>BULLET_POINTS</th>\n",
              "      <th>BRAND</th>\n",
              "      <th>BROWSE_NODE_ID</th>\n",
              "    </tr>\n",
              "  </thead>\n",
              "  <tbody>\n",
              "    <tr>\n",
              "      <th>0</th>\n",
              "      <td>0</td>\n",
              "      <td>Pete The Cat Bedtime Blues Doll, 14.5 Inch</td>\n",
              "      <td>cat bedtime blues plush doll based james dean ...</td>\n",
              "      <td>MerryMakers</td>\n",
              "      <td>0</td>\n",
              "    </tr>\n",
              "    <tr>\n",
              "      <th>1</th>\n",
              "      <td>1</td>\n",
              "      <td>The New Yorker NYHM014 Refrigerator Magnet, 2 ...</td>\n",
              "      <td>new yorker cover artist gurbuz dogan eksioglu ...</td>\n",
              "      <td>The New Yorker</td>\n",
              "      <td>1</td>\n",
              "    </tr>\n",
              "    <tr>\n",
              "      <th>2</th>\n",
              "      <td>2</td>\n",
              "      <td>The Ultimate Self-Sufficiency Handbook: A Comp...</td>\n",
              "      <td>skyhorse publishing</td>\n",
              "      <td>imusti</td>\n",
              "      <td>2</td>\n",
              "    </tr>\n",
              "    <tr>\n",
              "      <th>3</th>\n",
              "      <td>3</td>\n",
              "      <td>Amway Nutrilite Kids Chewable Iron Tablets (100)</td>\n",
              "      <td>nutrilite kids chewable iron tablets quantity ...</td>\n",
              "      <td>Amway</td>\n",
              "      <td>3</td>\n",
              "    </tr>\n",
              "    <tr>\n",
              "      <th>4</th>\n",
              "      <td>4</td>\n",
              "      <td>Teacher Planner Company A4 6 Lesson Academic T...</td>\n",
              "      <td>NaN</td>\n",
              "      <td></td>\n",
              "      <td>4</td>\n",
              "    </tr>\n",
              "    <tr>\n",
              "      <th>...</th>\n",
              "      <td>...</td>\n",
              "      <td>...</td>\n",
              "      <td>...</td>\n",
              "      <td>...</td>\n",
              "      <td>...</td>\n",
              "    </tr>\n",
              "    <tr>\n",
              "      <th>2903019</th>\n",
              "      <td>2903019</td>\n",
              "      <td>Premium Aviator Sunglasses - HD Polarized (Bri...</td>\n",
              "      <td>5 colors sunglasses come 140mm unisex sunglass...</td>\n",
              "      <td>Generic</td>\n",
              "      <td>1040</td>\n",
              "    </tr>\n",
              "    <tr>\n",
              "      <th>2903020</th>\n",
              "      <td>2903020</td>\n",
              "      <td>Social Distance Stickers - Set of 5 Sticker Sl...</td>\n",
              "      <td>self adhesive pvc durable vinyl material wall ...</td>\n",
              "      <td>Generic</td>\n",
              "      <td>15199</td>\n",
              "    </tr>\n",
              "    <tr>\n",
              "      <th>2903021</th>\n",
              "      <td>2903021</td>\n",
              "      <td>Torr-to Face Shield PACK OF 5 with Adjustable ...</td>\n",
              "      <td>saliva spray splatter droplet dust oil 5 pcs c...</td>\n",
              "      <td>TORR-TO</td>\n",
              "      <td>1044933</td>\n",
              "    </tr>\n",
              "    <tr>\n",
              "      <th>2903022</th>\n",
              "      <td>2903022</td>\n",
              "      <td>Type-C to 3.5 MM for Oppo R17 Pro Type-C to 3....</td>\n",
              "      <td>exclusive quick charge technology automaticall...</td>\n",
              "      <td>SHOPBELL</td>\n",
              "      <td>14790</td>\n",
              "    </tr>\n",
              "    <tr>\n",
              "      <th>2903023</th>\n",
              "      <td>2903023</td>\n",
              "      <td>KNG Orange Polo Tshirt (38)</td>\n",
              "      <td>rib knit collar polo shirt mixes exceptional w...</td>\n",
              "      <td>KNG</td>\n",
              "      <td>1213</td>\n",
              "    </tr>\n",
              "  </tbody>\n",
              "</table>\n",
              "<p>2903024 rows × 5 columns</p>\n",
              "</div>"
            ],
            "text/plain": [
              "         Unnamed: 0  ... BROWSE_NODE_ID\n",
              "0                 0  ...              0\n",
              "1                 1  ...              1\n",
              "2                 2  ...              2\n",
              "3                 3  ...              3\n",
              "4                 4  ...              4\n",
              "...             ...  ...            ...\n",
              "2903019     2903019  ...           1040\n",
              "2903020     2903020  ...          15199\n",
              "2903021     2903021  ...        1044933\n",
              "2903022     2903022  ...          14790\n",
              "2903023     2903023  ...           1213\n",
              "\n",
              "[2903024 rows x 5 columns]"
            ]
          },
          "metadata": {
            "tags": []
          },
          "execution_count": 34
        }
      ]
    },
    {
      "cell_type": "code",
      "metadata": {
        "id": "Pvwlxc4co98s"
      },
      "source": [
        "df1.drop(\"Unnamed: 0\",axis=1,inplace=True)"
      ],
      "execution_count": null,
      "outputs": []
    },
    {
      "cell_type": "code",
      "metadata": {
        "colab": {
          "base_uri": "https://localhost:8080/",
          "height": 414
        },
        "id": "ohBwABlepgBA",
        "outputId": "7a9e911a-fe99-4958-fa9c-459e2c956059"
      },
      "source": [
        "df1"
      ],
      "execution_count": null,
      "outputs": [
        {
          "output_type": "execute_result",
          "data": {
            "text/html": [
              "<div>\n",
              "<style scoped>\n",
              "    .dataframe tbody tr th:only-of-type {\n",
              "        vertical-align: middle;\n",
              "    }\n",
              "\n",
              "    .dataframe tbody tr th {\n",
              "        vertical-align: top;\n",
              "    }\n",
              "\n",
              "    .dataframe thead th {\n",
              "        text-align: right;\n",
              "    }\n",
              "</style>\n",
              "<table border=\"1\" class=\"dataframe\">\n",
              "  <thead>\n",
              "    <tr style=\"text-align: right;\">\n",
              "      <th></th>\n",
              "      <th>TITLE</th>\n",
              "      <th>BULLET_POINTS</th>\n",
              "      <th>BRAND</th>\n",
              "      <th>BROWSE_NODE_ID</th>\n",
              "    </tr>\n",
              "  </thead>\n",
              "  <tbody>\n",
              "    <tr>\n",
              "      <th>0</th>\n",
              "      <td>Pete The Cat Bedtime Blues Doll, 14.5 Inch</td>\n",
              "      <td>cat bedtime blues plush doll based james dean ...</td>\n",
              "      <td>MerryMakers</td>\n",
              "      <td>0</td>\n",
              "    </tr>\n",
              "    <tr>\n",
              "      <th>1</th>\n",
              "      <td>The New Yorker NYHM014 Refrigerator Magnet, 2 ...</td>\n",
              "      <td>new yorker cover artist gurbuz dogan eksioglu ...</td>\n",
              "      <td>The New Yorker</td>\n",
              "      <td>1</td>\n",
              "    </tr>\n",
              "    <tr>\n",
              "      <th>2</th>\n",
              "      <td>The Ultimate Self-Sufficiency Handbook: A Comp...</td>\n",
              "      <td>skyhorse publishing</td>\n",
              "      <td>imusti</td>\n",
              "      <td>2</td>\n",
              "    </tr>\n",
              "    <tr>\n",
              "      <th>3</th>\n",
              "      <td>Amway Nutrilite Kids Chewable Iron Tablets (100)</td>\n",
              "      <td>nutrilite kids chewable iron tablets quantity ...</td>\n",
              "      <td>Amway</td>\n",
              "      <td>3</td>\n",
              "    </tr>\n",
              "    <tr>\n",
              "      <th>4</th>\n",
              "      <td>Teacher Planner Company A4 6 Lesson Academic T...</td>\n",
              "      <td>NaN</td>\n",
              "      <td></td>\n",
              "      <td>4</td>\n",
              "    </tr>\n",
              "    <tr>\n",
              "      <th>...</th>\n",
              "      <td>...</td>\n",
              "      <td>...</td>\n",
              "      <td>...</td>\n",
              "      <td>...</td>\n",
              "    </tr>\n",
              "    <tr>\n",
              "      <th>2903019</th>\n",
              "      <td>Premium Aviator Sunglasses - HD Polarized (Bri...</td>\n",
              "      <td>5 colors sunglasses come 140mm unisex sunglass...</td>\n",
              "      <td>Generic</td>\n",
              "      <td>1040</td>\n",
              "    </tr>\n",
              "    <tr>\n",
              "      <th>2903020</th>\n",
              "      <td>Social Distance Stickers - Set of 5 Sticker Sl...</td>\n",
              "      <td>self adhesive pvc durable vinyl material wall ...</td>\n",
              "      <td>Generic</td>\n",
              "      <td>15199</td>\n",
              "    </tr>\n",
              "    <tr>\n",
              "      <th>2903021</th>\n",
              "      <td>Torr-to Face Shield PACK OF 5 with Adjustable ...</td>\n",
              "      <td>saliva spray splatter droplet dust oil 5 pcs c...</td>\n",
              "      <td>TORR-TO</td>\n",
              "      <td>1044933</td>\n",
              "    </tr>\n",
              "    <tr>\n",
              "      <th>2903022</th>\n",
              "      <td>Type-C to 3.5 MM for Oppo R17 Pro Type-C to 3....</td>\n",
              "      <td>exclusive quick charge technology automaticall...</td>\n",
              "      <td>SHOPBELL</td>\n",
              "      <td>14790</td>\n",
              "    </tr>\n",
              "    <tr>\n",
              "      <th>2903023</th>\n",
              "      <td>KNG Orange Polo Tshirt (38)</td>\n",
              "      <td>rib knit collar polo shirt mixes exceptional w...</td>\n",
              "      <td>KNG</td>\n",
              "      <td>1213</td>\n",
              "    </tr>\n",
              "  </tbody>\n",
              "</table>\n",
              "<p>2903024 rows × 4 columns</p>\n",
              "</div>"
            ],
            "text/plain": [
              "                                                     TITLE  ... BROWSE_NODE_ID\n",
              "0               Pete The Cat Bedtime Blues Doll, 14.5 Inch  ...              0\n",
              "1        The New Yorker NYHM014 Refrigerator Magnet, 2 ...  ...              1\n",
              "2        The Ultimate Self-Sufficiency Handbook: A Comp...  ...              2\n",
              "3         Amway Nutrilite Kids Chewable Iron Tablets (100)  ...              3\n",
              "4        Teacher Planner Company A4 6 Lesson Academic T...  ...              4\n",
              "...                                                    ...  ...            ...\n",
              "2903019  Premium Aviator Sunglasses - HD Polarized (Bri...  ...           1040\n",
              "2903020  Social Distance Stickers - Set of 5 Sticker Sl...  ...          15199\n",
              "2903021  Torr-to Face Shield PACK OF 5 with Adjustable ...  ...        1044933\n",
              "2903022  Type-C to 3.5 MM for Oppo R17 Pro Type-C to 3....  ...          14790\n",
              "2903023                        KNG Orange Polo Tshirt (38)  ...           1213\n",
              "\n",
              "[2903024 rows x 4 columns]"
            ]
          },
          "metadata": {
            "tags": []
          },
          "execution_count": 36
        }
      ]
    },
    {
      "cell_type": "code",
      "metadata": {
        "colab": {
          "base_uri": "https://localhost:8080/"
        },
        "id": "D06i1LGGpkss",
        "outputId": "97209ad7-1f9e-439d-e43b-ca1b2b034753"
      },
      "source": [
        "df1.isnull().sum()"
      ],
      "execution_count": null,
      "outputs": [
        {
          "output_type": "execute_result",
          "data": {
            "text/plain": [
              "TITLE                  0\n",
              "BULLET_POINTS     104100\n",
              "BRAND                  0\n",
              "BROWSE_NODE_ID         0\n",
              "dtype: int64"
            ]
          },
          "metadata": {
            "tags": []
          },
          "execution_count": 37
        }
      ]
    },
    {
      "cell_type": "code",
      "metadata": {
        "id": "2HmtuaqAp7pu"
      },
      "source": [
        "df1.replace(np.nan,\" \",inplace=True)"
      ],
      "execution_count": null,
      "outputs": []
    },
    {
      "cell_type": "code",
      "metadata": {
        "colab": {
          "base_uri": "https://localhost:8080/",
          "height": 414
        },
        "id": "_7SCfZ6IrSaw",
        "outputId": "b1485625-068e-406b-f85a-14b7abff38f0"
      },
      "source": [
        "df1"
      ],
      "execution_count": null,
      "outputs": [
        {
          "output_type": "execute_result",
          "data": {
            "text/html": [
              "<div>\n",
              "<style scoped>\n",
              "    .dataframe tbody tr th:only-of-type {\n",
              "        vertical-align: middle;\n",
              "    }\n",
              "\n",
              "    .dataframe tbody tr th {\n",
              "        vertical-align: top;\n",
              "    }\n",
              "\n",
              "    .dataframe thead th {\n",
              "        text-align: right;\n",
              "    }\n",
              "</style>\n",
              "<table border=\"1\" class=\"dataframe\">\n",
              "  <thead>\n",
              "    <tr style=\"text-align: right;\">\n",
              "      <th></th>\n",
              "      <th>TITLE</th>\n",
              "      <th>BULLET_POINTS</th>\n",
              "      <th>BRAND</th>\n",
              "      <th>BROWSE_NODE_ID</th>\n",
              "    </tr>\n",
              "  </thead>\n",
              "  <tbody>\n",
              "    <tr>\n",
              "      <th>0</th>\n",
              "      <td>Pete The Cat Bedtime Blues Doll, 14.5 Inch</td>\n",
              "      <td>cat bedtime blues plush doll based james dean ...</td>\n",
              "      <td>MerryMakers</td>\n",
              "      <td>0</td>\n",
              "    </tr>\n",
              "    <tr>\n",
              "      <th>1</th>\n",
              "      <td>The New Yorker NYHM014 Refrigerator Magnet, 2 ...</td>\n",
              "      <td>new yorker cover artist gurbuz dogan eksioglu ...</td>\n",
              "      <td>The New Yorker</td>\n",
              "      <td>1</td>\n",
              "    </tr>\n",
              "    <tr>\n",
              "      <th>2</th>\n",
              "      <td>The Ultimate Self-Sufficiency Handbook: A Comp...</td>\n",
              "      <td>skyhorse publishing</td>\n",
              "      <td>imusti</td>\n",
              "      <td>2</td>\n",
              "    </tr>\n",
              "    <tr>\n",
              "      <th>3</th>\n",
              "      <td>Amway Nutrilite Kids Chewable Iron Tablets (100)</td>\n",
              "      <td>nutrilite kids chewable iron tablets quantity ...</td>\n",
              "      <td>Amway</td>\n",
              "      <td>3</td>\n",
              "    </tr>\n",
              "    <tr>\n",
              "      <th>4</th>\n",
              "      <td>Teacher Planner Company A4 6 Lesson Academic T...</td>\n",
              "      <td></td>\n",
              "      <td></td>\n",
              "      <td>4</td>\n",
              "    </tr>\n",
              "    <tr>\n",
              "      <th>...</th>\n",
              "      <td>...</td>\n",
              "      <td>...</td>\n",
              "      <td>...</td>\n",
              "      <td>...</td>\n",
              "    </tr>\n",
              "    <tr>\n",
              "      <th>2903019</th>\n",
              "      <td>Premium Aviator Sunglasses - HD Polarized (Bri...</td>\n",
              "      <td>5 colors sunglasses come 140mm unisex sunglass...</td>\n",
              "      <td>Generic</td>\n",
              "      <td>1040</td>\n",
              "    </tr>\n",
              "    <tr>\n",
              "      <th>2903020</th>\n",
              "      <td>Social Distance Stickers - Set of 5 Sticker Sl...</td>\n",
              "      <td>self adhesive pvc durable vinyl material wall ...</td>\n",
              "      <td>Generic</td>\n",
              "      <td>15199</td>\n",
              "    </tr>\n",
              "    <tr>\n",
              "      <th>2903021</th>\n",
              "      <td>Torr-to Face Shield PACK OF 5 with Adjustable ...</td>\n",
              "      <td>saliva spray splatter droplet dust oil 5 pcs c...</td>\n",
              "      <td>TORR-TO</td>\n",
              "      <td>1044933</td>\n",
              "    </tr>\n",
              "    <tr>\n",
              "      <th>2903022</th>\n",
              "      <td>Type-C to 3.5 MM for Oppo R17 Pro Type-C to 3....</td>\n",
              "      <td>exclusive quick charge technology automaticall...</td>\n",
              "      <td>SHOPBELL</td>\n",
              "      <td>14790</td>\n",
              "    </tr>\n",
              "    <tr>\n",
              "      <th>2903023</th>\n",
              "      <td>KNG Orange Polo Tshirt (38)</td>\n",
              "      <td>rib knit collar polo shirt mixes exceptional w...</td>\n",
              "      <td>KNG</td>\n",
              "      <td>1213</td>\n",
              "    </tr>\n",
              "  </tbody>\n",
              "</table>\n",
              "<p>2903024 rows × 4 columns</p>\n",
              "</div>"
            ],
            "text/plain": [
              "                                                     TITLE  ... BROWSE_NODE_ID\n",
              "0               Pete The Cat Bedtime Blues Doll, 14.5 Inch  ...              0\n",
              "1        The New Yorker NYHM014 Refrigerator Magnet, 2 ...  ...              1\n",
              "2        The Ultimate Self-Sufficiency Handbook: A Comp...  ...              2\n",
              "3         Amway Nutrilite Kids Chewable Iron Tablets (100)  ...              3\n",
              "4        Teacher Planner Company A4 6 Lesson Academic T...  ...              4\n",
              "...                                                    ...  ...            ...\n",
              "2903019  Premium Aviator Sunglasses - HD Polarized (Bri...  ...           1040\n",
              "2903020  Social Distance Stickers - Set of 5 Sticker Sl...  ...          15199\n",
              "2903021  Torr-to Face Shield PACK OF 5 with Adjustable ...  ...        1044933\n",
              "2903022  Type-C to 3.5 MM for Oppo R17 Pro Type-C to 3....  ...          14790\n",
              "2903023                        KNG Orange Polo Tshirt (38)  ...           1213\n",
              "\n",
              "[2903024 rows x 4 columns]"
            ]
          },
          "metadata": {
            "tags": []
          },
          "execution_count": 39
        }
      ]
    },
    {
      "cell_type": "code",
      "metadata": {
        "colab": {
          "base_uri": "https://localhost:8080/"
        },
        "id": "m7dhYn07rTy3",
        "outputId": "ca11a53b-1c43-4ef0-9b61-cb0a19eff6f7"
      },
      "source": [
        "df1.isnull().sum()"
      ],
      "execution_count": null,
      "outputs": [
        {
          "output_type": "execute_result",
          "data": {
            "text/plain": [
              "TITLE             0\n",
              "BULLET_POINTS     0\n",
              "BRAND             0\n",
              "BROWSE_NODE_ID    0\n",
              "dtype: int64"
            ]
          },
          "metadata": {
            "tags": []
          },
          "execution_count": 40
        }
      ]
    },
    {
      "cell_type": "code",
      "metadata": {
        "id": "B-hHGmcorrTM"
      },
      "source": [
        "df1[\"TITLE\"]=df1[\"TITLE\"].str.lower()\n",
        "df1[\"BULLET_POINTS\"]=df1[\"BULLET_POINTS\"].str.lower()\n",
        "df1[\"BRAND\"]=df1[\"BRAND\"].str.lower()\n",
        "\n"
      ],
      "execution_count": null,
      "outputs": []
    },
    {
      "cell_type": "code",
      "metadata": {
        "colab": {
          "base_uri": "https://localhost:8080/",
          "height": 414
        },
        "id": "YpuCKZwksOzZ",
        "outputId": "740e6a97-4f0f-46a5-d775-cc8b56f6ed1c"
      },
      "source": [
        "df1"
      ],
      "execution_count": null,
      "outputs": [
        {
          "output_type": "execute_result",
          "data": {
            "text/html": [
              "<div>\n",
              "<style scoped>\n",
              "    .dataframe tbody tr th:only-of-type {\n",
              "        vertical-align: middle;\n",
              "    }\n",
              "\n",
              "    .dataframe tbody tr th {\n",
              "        vertical-align: top;\n",
              "    }\n",
              "\n",
              "    .dataframe thead th {\n",
              "        text-align: right;\n",
              "    }\n",
              "</style>\n",
              "<table border=\"1\" class=\"dataframe\">\n",
              "  <thead>\n",
              "    <tr style=\"text-align: right;\">\n",
              "      <th></th>\n",
              "      <th>TITLE</th>\n",
              "      <th>BULLET_POINTS</th>\n",
              "      <th>BRAND</th>\n",
              "      <th>BROWSE_NODE_ID</th>\n",
              "    </tr>\n",
              "  </thead>\n",
              "  <tbody>\n",
              "    <tr>\n",
              "      <th>0</th>\n",
              "      <td>pete the cat bedtime blues doll, 14.5 inch</td>\n",
              "      <td>cat bedtime blues plush doll based james dean ...</td>\n",
              "      <td>merrymakers</td>\n",
              "      <td>0</td>\n",
              "    </tr>\n",
              "    <tr>\n",
              "      <th>1</th>\n",
              "      <td>the new yorker nyhm014 refrigerator magnet, 2 ...</td>\n",
              "      <td>new yorker cover artist gurbuz dogan eksioglu ...</td>\n",
              "      <td>the new yorker</td>\n",
              "      <td>1</td>\n",
              "    </tr>\n",
              "    <tr>\n",
              "      <th>2</th>\n",
              "      <td>the ultimate self-sufficiency handbook: a comp...</td>\n",
              "      <td>skyhorse publishing</td>\n",
              "      <td>imusti</td>\n",
              "      <td>2</td>\n",
              "    </tr>\n",
              "    <tr>\n",
              "      <th>3</th>\n",
              "      <td>amway nutrilite kids chewable iron tablets (100)</td>\n",
              "      <td>nutrilite kids chewable iron tablets quantity ...</td>\n",
              "      <td>amway</td>\n",
              "      <td>3</td>\n",
              "    </tr>\n",
              "    <tr>\n",
              "      <th>4</th>\n",
              "      <td>teacher planner company a4 6 lesson academic t...</td>\n",
              "      <td></td>\n",
              "      <td></td>\n",
              "      <td>4</td>\n",
              "    </tr>\n",
              "    <tr>\n",
              "      <th>...</th>\n",
              "      <td>...</td>\n",
              "      <td>...</td>\n",
              "      <td>...</td>\n",
              "      <td>...</td>\n",
              "    </tr>\n",
              "    <tr>\n",
              "      <th>2903019</th>\n",
              "      <td>premium aviator sunglasses - hd polarized (bri...</td>\n",
              "      <td>5 colors sunglasses come 140mm unisex sunglass...</td>\n",
              "      <td>generic</td>\n",
              "      <td>1040</td>\n",
              "    </tr>\n",
              "    <tr>\n",
              "      <th>2903020</th>\n",
              "      <td>social distance stickers - set of 5 sticker sl...</td>\n",
              "      <td>self adhesive pvc durable vinyl material wall ...</td>\n",
              "      <td>generic</td>\n",
              "      <td>15199</td>\n",
              "    </tr>\n",
              "    <tr>\n",
              "      <th>2903021</th>\n",
              "      <td>torr-to face shield pack of 5 with adjustable ...</td>\n",
              "      <td>saliva spray splatter droplet dust oil 5 pcs c...</td>\n",
              "      <td>torr-to</td>\n",
              "      <td>1044933</td>\n",
              "    </tr>\n",
              "    <tr>\n",
              "      <th>2903022</th>\n",
              "      <td>type-c to 3.5 mm for oppo r17 pro type-c to 3....</td>\n",
              "      <td>exclusive quick charge technology automaticall...</td>\n",
              "      <td>shopbell</td>\n",
              "      <td>14790</td>\n",
              "    </tr>\n",
              "    <tr>\n",
              "      <th>2903023</th>\n",
              "      <td>kng orange polo tshirt (38)</td>\n",
              "      <td>rib knit collar polo shirt mixes exceptional w...</td>\n",
              "      <td>kng</td>\n",
              "      <td>1213</td>\n",
              "    </tr>\n",
              "  </tbody>\n",
              "</table>\n",
              "<p>2903024 rows × 4 columns</p>\n",
              "</div>"
            ],
            "text/plain": [
              "                                                     TITLE  ... BROWSE_NODE_ID\n",
              "0               pete the cat bedtime blues doll, 14.5 inch  ...              0\n",
              "1        the new yorker nyhm014 refrigerator magnet, 2 ...  ...              1\n",
              "2        the ultimate self-sufficiency handbook: a comp...  ...              2\n",
              "3         amway nutrilite kids chewable iron tablets (100)  ...              3\n",
              "4        teacher planner company a4 6 lesson academic t...  ...              4\n",
              "...                                                    ...  ...            ...\n",
              "2903019  premium aviator sunglasses - hd polarized (bri...  ...           1040\n",
              "2903020  social distance stickers - set of 5 sticker sl...  ...          15199\n",
              "2903021  torr-to face shield pack of 5 with adjustable ...  ...        1044933\n",
              "2903022  type-c to 3.5 mm for oppo r17 pro type-c to 3....  ...          14790\n",
              "2903023                        kng orange polo tshirt (38)  ...           1213\n",
              "\n",
              "[2903024 rows x 4 columns]"
            ]
          },
          "metadata": {
            "tags": []
          },
          "execution_count": 42
        }
      ]
    },
    {
      "cell_type": "code",
      "metadata": {
        "colab": {
          "base_uri": "https://localhost:8080/",
          "height": 414
        },
        "id": "oV9nVKxttdZP",
        "outputId": "cc82c326-c656-424c-d749-fec511494fe8"
      },
      "source": [
        "df1[\"combined_columns\"]=df1[\"TITLE\"]+' '+df1[\"BULLET_POINTS\"]+' '+df1[\"BRAND\"]\n",
        "df1"
      ],
      "execution_count": null,
      "outputs": [
        {
          "output_type": "execute_result",
          "data": {
            "text/html": [
              "<div>\n",
              "<style scoped>\n",
              "    .dataframe tbody tr th:only-of-type {\n",
              "        vertical-align: middle;\n",
              "    }\n",
              "\n",
              "    .dataframe tbody tr th {\n",
              "        vertical-align: top;\n",
              "    }\n",
              "\n",
              "    .dataframe thead th {\n",
              "        text-align: right;\n",
              "    }\n",
              "</style>\n",
              "<table border=\"1\" class=\"dataframe\">\n",
              "  <thead>\n",
              "    <tr style=\"text-align: right;\">\n",
              "      <th></th>\n",
              "      <th>TITLE</th>\n",
              "      <th>BULLET_POINTS</th>\n",
              "      <th>BRAND</th>\n",
              "      <th>BROWSE_NODE_ID</th>\n",
              "      <th>combined_columns</th>\n",
              "    </tr>\n",
              "  </thead>\n",
              "  <tbody>\n",
              "    <tr>\n",
              "      <th>0</th>\n",
              "      <td>pete the cat bedtime blues doll, 14.5 inch</td>\n",
              "      <td>cat bedtime blues plush doll based james dean ...</td>\n",
              "      <td>merrymakers</td>\n",
              "      <td>0</td>\n",
              "      <td>pete the cat bedtime blues doll, 14.5 inch cat...</td>\n",
              "    </tr>\n",
              "    <tr>\n",
              "      <th>1</th>\n",
              "      <td>the new yorker nyhm014 refrigerator magnet, 2 ...</td>\n",
              "      <td>new yorker cover artist gurbuz dogan eksioglu ...</td>\n",
              "      <td>the new yorker</td>\n",
              "      <td>1</td>\n",
              "      <td>the new yorker nyhm014 refrigerator magnet, 2 ...</td>\n",
              "    </tr>\n",
              "    <tr>\n",
              "      <th>2</th>\n",
              "      <td>the ultimate self-sufficiency handbook: a comp...</td>\n",
              "      <td>skyhorse publishing</td>\n",
              "      <td>imusti</td>\n",
              "      <td>2</td>\n",
              "      <td>the ultimate self-sufficiency handbook: a comp...</td>\n",
              "    </tr>\n",
              "    <tr>\n",
              "      <th>3</th>\n",
              "      <td>amway nutrilite kids chewable iron tablets (100)</td>\n",
              "      <td>nutrilite kids chewable iron tablets quantity ...</td>\n",
              "      <td>amway</td>\n",
              "      <td>3</td>\n",
              "      <td>amway nutrilite kids chewable iron tablets (10...</td>\n",
              "    </tr>\n",
              "    <tr>\n",
              "      <th>4</th>\n",
              "      <td>teacher planner company a4 6 lesson academic t...</td>\n",
              "      <td></td>\n",
              "      <td></td>\n",
              "      <td>4</td>\n",
              "      <td>teacher planner company a4 6 lesson academic t...</td>\n",
              "    </tr>\n",
              "    <tr>\n",
              "      <th>...</th>\n",
              "      <td>...</td>\n",
              "      <td>...</td>\n",
              "      <td>...</td>\n",
              "      <td>...</td>\n",
              "      <td>...</td>\n",
              "    </tr>\n",
              "    <tr>\n",
              "      <th>2903019</th>\n",
              "      <td>premium aviator sunglasses - hd polarized (bri...</td>\n",
              "      <td>5 colors sunglasses come 140mm unisex sunglass...</td>\n",
              "      <td>generic</td>\n",
              "      <td>1040</td>\n",
              "      <td>premium aviator sunglasses - hd polarized (bri...</td>\n",
              "    </tr>\n",
              "    <tr>\n",
              "      <th>2903020</th>\n",
              "      <td>social distance stickers - set of 5 sticker sl...</td>\n",
              "      <td>self adhesive pvc durable vinyl material wall ...</td>\n",
              "      <td>generic</td>\n",
              "      <td>15199</td>\n",
              "      <td>social distance stickers - set of 5 sticker sl...</td>\n",
              "    </tr>\n",
              "    <tr>\n",
              "      <th>2903021</th>\n",
              "      <td>torr-to face shield pack of 5 with adjustable ...</td>\n",
              "      <td>saliva spray splatter droplet dust oil 5 pcs c...</td>\n",
              "      <td>torr-to</td>\n",
              "      <td>1044933</td>\n",
              "      <td>torr-to face shield pack of 5 with adjustable ...</td>\n",
              "    </tr>\n",
              "    <tr>\n",
              "      <th>2903022</th>\n",
              "      <td>type-c to 3.5 mm for oppo r17 pro type-c to 3....</td>\n",
              "      <td>exclusive quick charge technology automaticall...</td>\n",
              "      <td>shopbell</td>\n",
              "      <td>14790</td>\n",
              "      <td>type-c to 3.5 mm for oppo r17 pro type-c to 3....</td>\n",
              "    </tr>\n",
              "    <tr>\n",
              "      <th>2903023</th>\n",
              "      <td>kng orange polo tshirt (38)</td>\n",
              "      <td>rib knit collar polo shirt mixes exceptional w...</td>\n",
              "      <td>kng</td>\n",
              "      <td>1213</td>\n",
              "      <td>kng orange polo tshirt (38) rib knit collar po...</td>\n",
              "    </tr>\n",
              "  </tbody>\n",
              "</table>\n",
              "<p>2903024 rows × 5 columns</p>\n",
              "</div>"
            ],
            "text/plain": [
              "                                                     TITLE  ...                                   combined_columns\n",
              "0               pete the cat bedtime blues doll, 14.5 inch  ...  pete the cat bedtime blues doll, 14.5 inch cat...\n",
              "1        the new yorker nyhm014 refrigerator magnet, 2 ...  ...  the new yorker nyhm014 refrigerator magnet, 2 ...\n",
              "2        the ultimate self-sufficiency handbook: a comp...  ...  the ultimate self-sufficiency handbook: a comp...\n",
              "3         amway nutrilite kids chewable iron tablets (100)  ...  amway nutrilite kids chewable iron tablets (10...\n",
              "4        teacher planner company a4 6 lesson academic t...  ...  teacher planner company a4 6 lesson academic t...\n",
              "...                                                    ...  ...                                                ...\n",
              "2903019  premium aviator sunglasses - hd polarized (bri...  ...  premium aviator sunglasses - hd polarized (bri...\n",
              "2903020  social distance stickers - set of 5 sticker sl...  ...  social distance stickers - set of 5 sticker sl...\n",
              "2903021  torr-to face shield pack of 5 with adjustable ...  ...  torr-to face shield pack of 5 with adjustable ...\n",
              "2903022  type-c to 3.5 mm for oppo r17 pro type-c to 3....  ...  type-c to 3.5 mm for oppo r17 pro type-c to 3....\n",
              "2903023                        kng orange polo tshirt (38)  ...  kng orange polo tshirt (38) rib knit collar po...\n",
              "\n",
              "[2903024 rows x 5 columns]"
            ]
          },
          "metadata": {
            "tags": []
          },
          "execution_count": 43
        }
      ]
    },
    {
      "cell_type": "code",
      "metadata": {
        "colab": {
          "base_uri": "https://localhost:8080/",
          "height": 414
        },
        "id": "ObtRxXw3Fhlk",
        "outputId": "74d4e4ad-f5ea-4b58-f666-d91006cda876"
      },
      "source": [
        "df2 = df1.loc[:,[\"combined_columns\",\"BROWSE_NODE_ID\"]]\n",
        "df2"
      ],
      "execution_count": null,
      "outputs": [
        {
          "output_type": "execute_result",
          "data": {
            "text/html": [
              "<div>\n",
              "<style scoped>\n",
              "    .dataframe tbody tr th:only-of-type {\n",
              "        vertical-align: middle;\n",
              "    }\n",
              "\n",
              "    .dataframe tbody tr th {\n",
              "        vertical-align: top;\n",
              "    }\n",
              "\n",
              "    .dataframe thead th {\n",
              "        text-align: right;\n",
              "    }\n",
              "</style>\n",
              "<table border=\"1\" class=\"dataframe\">\n",
              "  <thead>\n",
              "    <tr style=\"text-align: right;\">\n",
              "      <th></th>\n",
              "      <th>combined_columns</th>\n",
              "      <th>BROWSE_NODE_ID</th>\n",
              "    </tr>\n",
              "  </thead>\n",
              "  <tbody>\n",
              "    <tr>\n",
              "      <th>0</th>\n",
              "      <td>pete the cat bedtime blues doll, 14.5 inch cat...</td>\n",
              "      <td>0</td>\n",
              "    </tr>\n",
              "    <tr>\n",
              "      <th>1</th>\n",
              "      <td>the new yorker nyhm014 refrigerator magnet, 2 ...</td>\n",
              "      <td>1</td>\n",
              "    </tr>\n",
              "    <tr>\n",
              "      <th>2</th>\n",
              "      <td>the ultimate self-sufficiency handbook: a comp...</td>\n",
              "      <td>2</td>\n",
              "    </tr>\n",
              "    <tr>\n",
              "      <th>3</th>\n",
              "      <td>amway nutrilite kids chewable iron tablets (10...</td>\n",
              "      <td>3</td>\n",
              "    </tr>\n",
              "    <tr>\n",
              "      <th>4</th>\n",
              "      <td>teacher planner company a4 6 lesson academic t...</td>\n",
              "      <td>4</td>\n",
              "    </tr>\n",
              "    <tr>\n",
              "      <th>...</th>\n",
              "      <td>...</td>\n",
              "      <td>...</td>\n",
              "    </tr>\n",
              "    <tr>\n",
              "      <th>2903019</th>\n",
              "      <td>premium aviator sunglasses - hd polarized (bri...</td>\n",
              "      <td>1040</td>\n",
              "    </tr>\n",
              "    <tr>\n",
              "      <th>2903020</th>\n",
              "      <td>social distance stickers - set of 5 sticker sl...</td>\n",
              "      <td>15199</td>\n",
              "    </tr>\n",
              "    <tr>\n",
              "      <th>2903021</th>\n",
              "      <td>torr-to face shield pack of 5 with adjustable ...</td>\n",
              "      <td>1044933</td>\n",
              "    </tr>\n",
              "    <tr>\n",
              "      <th>2903022</th>\n",
              "      <td>type-c to 3.5 mm for oppo r17 pro type-c to 3....</td>\n",
              "      <td>14790</td>\n",
              "    </tr>\n",
              "    <tr>\n",
              "      <th>2903023</th>\n",
              "      <td>kng orange polo tshirt (38) rib knit collar po...</td>\n",
              "      <td>1213</td>\n",
              "    </tr>\n",
              "  </tbody>\n",
              "</table>\n",
              "<p>2903024 rows × 2 columns</p>\n",
              "</div>"
            ],
            "text/plain": [
              "                                          combined_columns  BROWSE_NODE_ID\n",
              "0        pete the cat bedtime blues doll, 14.5 inch cat...               0\n",
              "1        the new yorker nyhm014 refrigerator magnet, 2 ...               1\n",
              "2        the ultimate self-sufficiency handbook: a comp...               2\n",
              "3        amway nutrilite kids chewable iron tablets (10...               3\n",
              "4        teacher planner company a4 6 lesson academic t...               4\n",
              "...                                                    ...             ...\n",
              "2903019  premium aviator sunglasses - hd polarized (bri...            1040\n",
              "2903020  social distance stickers - set of 5 sticker sl...           15199\n",
              "2903021  torr-to face shield pack of 5 with adjustable ...         1044933\n",
              "2903022  type-c to 3.5 mm for oppo r17 pro type-c to 3....           14790\n",
              "2903023  kng orange polo tshirt (38) rib knit collar po...            1213\n",
              "\n",
              "[2903024 rows x 2 columns]"
            ]
          },
          "metadata": {
            "tags": []
          },
          "execution_count": 44
        }
      ]
    },
    {
      "cell_type": "code",
      "metadata": {
        "id": "JlG-gTjvOXBs"
      },
      "source": [
        "unique_punctuations = \"}~+?,$).:*\\\"!='(/_^-&#{|`%@[;]\""
      ],
      "execution_count": null,
      "outputs": []
    },
    {
      "cell_type": "code",
      "metadata": {
        "colab": {
          "base_uri": "https://localhost:8080/",
          "height": 414
        },
        "id": "VGTRIwvBWjBq",
        "outputId": "1ed92531-4953-4f2e-9f64-6429936307f1"
      },
      "source": [
        "df2"
      ],
      "execution_count": null,
      "outputs": [
        {
          "output_type": "execute_result",
          "data": {
            "text/html": [
              "<div>\n",
              "<style scoped>\n",
              "    .dataframe tbody tr th:only-of-type {\n",
              "        vertical-align: middle;\n",
              "    }\n",
              "\n",
              "    .dataframe tbody tr th {\n",
              "        vertical-align: top;\n",
              "    }\n",
              "\n",
              "    .dataframe thead th {\n",
              "        text-align: right;\n",
              "    }\n",
              "</style>\n",
              "<table border=\"1\" class=\"dataframe\">\n",
              "  <thead>\n",
              "    <tr style=\"text-align: right;\">\n",
              "      <th></th>\n",
              "      <th>combined_columns</th>\n",
              "      <th>BROWSE_NODE_ID</th>\n",
              "    </tr>\n",
              "  </thead>\n",
              "  <tbody>\n",
              "    <tr>\n",
              "      <th>0</th>\n",
              "      <td>pete the cat bedtime blues doll, 14.5 inch cat...</td>\n",
              "      <td>0</td>\n",
              "    </tr>\n",
              "    <tr>\n",
              "      <th>1</th>\n",
              "      <td>the new yorker nyhm014 refrigerator magnet, 2 ...</td>\n",
              "      <td>1</td>\n",
              "    </tr>\n",
              "    <tr>\n",
              "      <th>2</th>\n",
              "      <td>the ultimate self-sufficiency handbook: a comp...</td>\n",
              "      <td>2</td>\n",
              "    </tr>\n",
              "    <tr>\n",
              "      <th>3</th>\n",
              "      <td>amway nutrilite kids chewable iron tablets (10...</td>\n",
              "      <td>3</td>\n",
              "    </tr>\n",
              "    <tr>\n",
              "      <th>4</th>\n",
              "      <td>teacher planner company a4 6 lesson academic t...</td>\n",
              "      <td>4</td>\n",
              "    </tr>\n",
              "    <tr>\n",
              "      <th>...</th>\n",
              "      <td>...</td>\n",
              "      <td>...</td>\n",
              "    </tr>\n",
              "    <tr>\n",
              "      <th>2903019</th>\n",
              "      <td>premium aviator sunglasses - hd polarized (bri...</td>\n",
              "      <td>1040</td>\n",
              "    </tr>\n",
              "    <tr>\n",
              "      <th>2903020</th>\n",
              "      <td>social distance stickers - set of 5 sticker sl...</td>\n",
              "      <td>15199</td>\n",
              "    </tr>\n",
              "    <tr>\n",
              "      <th>2903021</th>\n",
              "      <td>torr-to face shield pack of 5 with adjustable ...</td>\n",
              "      <td>1044933</td>\n",
              "    </tr>\n",
              "    <tr>\n",
              "      <th>2903022</th>\n",
              "      <td>type-c to 3.5 mm for oppo r17 pro type-c to 3....</td>\n",
              "      <td>14790</td>\n",
              "    </tr>\n",
              "    <tr>\n",
              "      <th>2903023</th>\n",
              "      <td>kng orange polo tshirt (38) rib knit collar po...</td>\n",
              "      <td>1213</td>\n",
              "    </tr>\n",
              "  </tbody>\n",
              "</table>\n",
              "<p>2903024 rows × 2 columns</p>\n",
              "</div>"
            ],
            "text/plain": [
              "                                          combined_columns  BROWSE_NODE_ID\n",
              "0        pete the cat bedtime blues doll, 14.5 inch cat...               0\n",
              "1        the new yorker nyhm014 refrigerator magnet, 2 ...               1\n",
              "2        the ultimate self-sufficiency handbook: a comp...               2\n",
              "3        amway nutrilite kids chewable iron tablets (10...               3\n",
              "4        teacher planner company a4 6 lesson academic t...               4\n",
              "...                                                    ...             ...\n",
              "2903019  premium aviator sunglasses - hd polarized (bri...            1040\n",
              "2903020  social distance stickers - set of 5 sticker sl...           15199\n",
              "2903021  torr-to face shield pack of 5 with adjustable ...         1044933\n",
              "2903022  type-c to 3.5 mm for oppo r17 pro type-c to 3....           14790\n",
              "2903023  kng orange polo tshirt (38) rib knit collar po...            1213\n",
              "\n",
              "[2903024 rows x 2 columns]"
            ]
          },
          "metadata": {
            "tags": []
          },
          "execution_count": 46
        }
      ]
    },
    {
      "cell_type": "code",
      "metadata": {
        "colab": {
          "base_uri": "https://localhost:8080/",
          "height": 1000
        },
        "id": "P90-ImXkNZ0g",
        "outputId": "9df72fa5-11aa-45fe-a790-02382583e468"
      },
      "source": [
        "for i in unique_punctuations:\n",
        "  if i!='.':\n",
        "    df2[\"combined_columns\"] = df2[\"combined_columns\"].str.replace(i,\" \")\n",
        "  print(df2[\"combined_columns\"])\n",
        "  print()\n",
        "  print()\n",
        "df2"
      ],
      "execution_count": null,
      "outputs": [
        {
          "output_type": "stream",
          "text": [
            "0          pete the cat bedtime blues doll, 14.5 inch cat...\n",
            "1          the new yorker nyhm014 refrigerator magnet, 2 ...\n",
            "2          the ultimate self-sufficiency handbook: a comp...\n",
            "3          amway nutrilite kids chewable iron tablets (10...\n",
            "4          teacher planner company a4 6 lesson academic t...\n",
            "                                 ...                        \n",
            "2903019    premium aviator sunglasses - hd polarized (bri...\n",
            "2903020    social distance stickers - set of 5 sticker sl...\n",
            "2903021    torr-to face shield pack of 5 with adjustable ...\n",
            "2903022    type-c to 3.5 mm for oppo r17 pro type-c to 3....\n",
            "2903023    kng orange polo tshirt (38) rib knit collar po...\n",
            "Name: combined_columns, Length: 2903024, dtype: object\n",
            "\n",
            "\n",
            "0          pete the cat bedtime blues doll, 14.5 inch cat...\n",
            "1          the new yorker nyhm014 refrigerator magnet, 2 ...\n",
            "2          the ultimate self-sufficiency handbook: a comp...\n",
            "3          amway nutrilite kids chewable iron tablets (10...\n",
            "4          teacher planner company a4 6 lesson academic t...\n",
            "                                 ...                        \n",
            "2903019    premium aviator sunglasses - hd polarized (bri...\n",
            "2903020    social distance stickers - set of 5 sticker sl...\n",
            "2903021    torr-to face shield pack of 5 with adjustable ...\n",
            "2903022    type-c to 3.5 mm for oppo r17 pro type-c to 3....\n",
            "2903023    kng orange polo tshirt (38) rib knit collar po...\n",
            "Name: combined_columns, Length: 2903024, dtype: object\n",
            "\n",
            "\n",
            "0          pete the cat bedtime blues doll, 14.5 inch cat...\n",
            "1          the new yorker nyhm014 refrigerator magnet, 2 ...\n",
            "2          the ultimate self-sufficiency handbook: a comp...\n",
            "3          amway nutrilite kids chewable iron tablets (10...\n",
            "4          teacher planner company a4 6 lesson academic t...\n",
            "                                 ...                        \n",
            "2903019    premium aviator sunglasses - hd polarized (bri...\n",
            "2903020    social distance stickers - set of 5 sticker sl...\n",
            "2903021    torr-to face shield pack of 5 with adjustable ...\n",
            "2903022    type-c to 3.5 mm for oppo r17 pro type-c to 3....\n",
            "2903023    kng orange polo tshirt (38) rib knit collar po...\n",
            "Name: combined_columns, Length: 2903024, dtype: object\n",
            "\n",
            "\n",
            "0          pete the cat bedtime blues doll, 14.5 inch cat...\n",
            "1          the new yorker nyhm014 refrigerator magnet, 2 ...\n",
            "2          the ultimate self-sufficiency handbook: a comp...\n",
            "3          amway nutrilite kids chewable iron tablets (10...\n",
            "4          teacher planner company a4 6 lesson academic t...\n",
            "                                 ...                        \n",
            "2903019    premium aviator sunglasses - hd polarized (bri...\n",
            "2903020    social distance stickers - set of 5 sticker sl...\n",
            "2903021    torr-to face shield pack of 5 with adjustable ...\n",
            "2903022    type-c to 3.5 mm for oppo r17 pro type-c to 3....\n",
            "2903023    kng orange polo tshirt (38) rib knit collar po...\n",
            "Name: combined_columns, Length: 2903024, dtype: object\n",
            "\n",
            "\n",
            "0          pete the cat bedtime blues doll  14.5 inch cat...\n",
            "1          the new yorker nyhm014 refrigerator magnet  2 ...\n",
            "2          the ultimate self-sufficiency handbook: a comp...\n",
            "3          amway nutrilite kids chewable iron tablets (10...\n",
            "4          teacher planner company a4 6 lesson academic t...\n",
            "                                 ...                        \n",
            "2903019    premium aviator sunglasses - hd polarized (bri...\n",
            "2903020    social distance stickers - set of 5 sticker sl...\n",
            "2903021    torr-to face shield pack of 5 with adjustable ...\n",
            "2903022    type-c to 3.5 mm for oppo r17 pro type-c to 3....\n",
            "2903023    kng orange polo tshirt (38) rib knit collar po...\n",
            "Name: combined_columns, Length: 2903024, dtype: object\n",
            "\n",
            "\n",
            "0          pete the cat bedtime blues doll  14.5 inch cat...\n",
            "1          the new yorker nyhm014 refrigerator magnet  2 ...\n",
            "2          the ultimate self-sufficiency handbook: a comp...\n",
            "3          amway nutrilite kids chewable iron tablets (10...\n",
            "4          teacher planner company a4 6 lesson academic t...\n",
            "                                 ...                        \n",
            "2903019    premium aviator sunglasses - hd polarized (bri...\n",
            "2903020    social distance stickers - set of 5 sticker sl...\n",
            "2903021    torr-to face shield pack of 5 with adjustable ...\n",
            "2903022    type-c to 3.5 mm for oppo r17 pro type-c to 3....\n",
            "2903023    kng orange polo tshirt (38) rib knit collar po...\n",
            "Name: combined_columns, Length: 2903024, dtype: object\n",
            "\n",
            "\n",
            "0          pete the cat bedtime blues doll  14.5 inch cat...\n",
            "1          the new yorker nyhm014 refrigerator magnet  2 ...\n",
            "2          the ultimate self-sufficiency handbook: a comp...\n",
            "3          amway nutrilite kids chewable iron tablets (10...\n",
            "4          teacher planner company a4 6 lesson academic t...\n",
            "                                 ...                        \n",
            "2903019    premium aviator sunglasses - hd polarized (bri...\n",
            "2903020    social distance stickers - set of 5 sticker sl...\n",
            "2903021    torr-to face shield pack of 5 with adjustable ...\n",
            "2903022    type-c to 3.5 mm for oppo r17 pro type-c to 3....\n",
            "2903023    kng orange polo tshirt (38  rib knit collar po...\n",
            "Name: combined_columns, Length: 2903024, dtype: object\n",
            "\n",
            "\n",
            "0          pete the cat bedtime blues doll  14.5 inch cat...\n",
            "1          the new yorker nyhm014 refrigerator magnet  2 ...\n",
            "2          the ultimate self-sufficiency handbook: a comp...\n",
            "3          amway nutrilite kids chewable iron tablets (10...\n",
            "4          teacher planner company a4 6 lesson academic t...\n",
            "                                 ...                        \n",
            "2903019    premium aviator sunglasses - hd polarized (bri...\n",
            "2903020    social distance stickers - set of 5 sticker sl...\n",
            "2903021    torr-to face shield pack of 5 with adjustable ...\n",
            "2903022    type-c to 3.5 mm for oppo r17 pro type-c to 3....\n",
            "2903023    kng orange polo tshirt (38  rib knit collar po...\n",
            "Name: combined_columns, Length: 2903024, dtype: object\n",
            "\n",
            "\n",
            "0          pete the cat bedtime blues doll  14.5 inch cat...\n",
            "1          the new yorker nyhm014 refrigerator magnet  2 ...\n",
            "2          the ultimate self-sufficiency handbook  a comp...\n",
            "3          amway nutrilite kids chewable iron tablets (10...\n",
            "4          teacher planner company a4 6 lesson academic t...\n",
            "                                 ...                        \n",
            "2903019    premium aviator sunglasses - hd polarized (bri...\n",
            "2903020    social distance stickers - set of 5 sticker sl...\n",
            "2903021    torr-to face shield pack of 5 with adjustable ...\n",
            "2903022    type-c to 3.5 mm for oppo r17 pro type-c to 3....\n",
            "2903023    kng orange polo tshirt (38  rib knit collar po...\n",
            "Name: combined_columns, Length: 2903024, dtype: object\n",
            "\n",
            "\n",
            "0          pete the cat bedtime blues doll  14.5 inch cat...\n",
            "1          the new yorker nyhm014 refrigerator magnet  2 ...\n",
            "2          the ultimate self-sufficiency handbook  a comp...\n",
            "3          amway nutrilite kids chewable iron tablets (10...\n",
            "4          teacher planner company a4 6 lesson academic t...\n",
            "                                 ...                        \n",
            "2903019    premium aviator sunglasses - hd polarized (bri...\n",
            "2903020    social distance stickers - set of 5 sticker sl...\n",
            "2903021    torr-to face shield pack of 5 with adjustable ...\n",
            "2903022    type-c to 3.5 mm for oppo r17 pro type-c to 3....\n",
            "2903023    kng orange polo tshirt (38  rib knit collar po...\n",
            "Name: combined_columns, Length: 2903024, dtype: object\n",
            "\n",
            "\n",
            "0          pete the cat bedtime blues doll  14.5 inch cat...\n",
            "1          the new yorker nyhm014 refrigerator magnet  2 ...\n",
            "2          the ultimate self-sufficiency handbook  a comp...\n",
            "3          amway nutrilite kids chewable iron tablets (10...\n",
            "4          teacher planner company a4 6 lesson academic t...\n",
            "                                 ...                        \n",
            "2903019    premium aviator sunglasses - hd polarized (bri...\n",
            "2903020    social distance stickers - set of 5 sticker sl...\n",
            "2903021    torr-to face shield pack of 5 with adjustable ...\n",
            "2903022    type-c to 3.5 mm for oppo r17 pro type-c to 3....\n",
            "2903023    kng orange polo tshirt (38  rib knit collar po...\n",
            "Name: combined_columns, Length: 2903024, dtype: object\n",
            "\n",
            "\n",
            "0          pete the cat bedtime blues doll  14.5 inch cat...\n",
            "1          the new yorker nyhm014 refrigerator magnet  2 ...\n",
            "2          the ultimate self-sufficiency handbook  a comp...\n",
            "3          amway nutrilite kids chewable iron tablets (10...\n",
            "4          teacher planner company a4 6 lesson academic t...\n",
            "                                 ...                        \n",
            "2903019    premium aviator sunglasses - hd polarized (bri...\n",
            "2903020    social distance stickers - set of 5 sticker sl...\n",
            "2903021    torr-to face shield pack of 5 with adjustable ...\n",
            "2903022    type-c to 3.5 mm for oppo r17 pro type-c to 3....\n",
            "2903023    kng orange polo tshirt (38  rib knit collar po...\n",
            "Name: combined_columns, Length: 2903024, dtype: object\n",
            "\n",
            "\n",
            "0          pete the cat bedtime blues doll  14.5 inch cat...\n",
            "1          the new yorker nyhm014 refrigerator magnet  2 ...\n",
            "2          the ultimate self-sufficiency handbook  a comp...\n",
            "3          amway nutrilite kids chewable iron tablets (10...\n",
            "4          teacher planner company a4 6 lesson academic t...\n",
            "                                 ...                        \n",
            "2903019    premium aviator sunglasses - hd polarized (bri...\n",
            "2903020    social distance stickers - set of 5 sticker sl...\n",
            "2903021    torr-to face shield pack of 5 with adjustable ...\n",
            "2903022    type-c to 3.5 mm for oppo r17 pro type-c to 3....\n",
            "2903023    kng orange polo tshirt (38  rib knit collar po...\n",
            "Name: combined_columns, Length: 2903024, dtype: object\n",
            "\n",
            "\n",
            "0          pete the cat bedtime blues doll  14.5 inch cat...\n",
            "1          the new yorker nyhm014 refrigerator magnet  2 ...\n",
            "2          the ultimate self-sufficiency handbook  a comp...\n",
            "3          amway nutrilite kids chewable iron tablets (10...\n",
            "4          teacher planner company a4 6 lesson academic t...\n",
            "                                 ...                        \n",
            "2903019    premium aviator sunglasses - hd polarized (bri...\n",
            "2903020    social distance stickers - set of 5 sticker sl...\n",
            "2903021    torr-to face shield pack of 5 with adjustable ...\n",
            "2903022    type-c to 3.5 mm for oppo r17 pro type-c to 3....\n",
            "2903023    kng orange polo tshirt (38  rib knit collar po...\n",
            "Name: combined_columns, Length: 2903024, dtype: object\n",
            "\n",
            "\n",
            "0          pete the cat bedtime blues doll  14.5 inch cat...\n",
            "1          the new yorker nyhm014 refrigerator magnet  2 ...\n",
            "2          the ultimate self-sufficiency handbook  a comp...\n",
            "3          amway nutrilite kids chewable iron tablets  10...\n",
            "4          teacher planner company a4 6 lesson academic t...\n",
            "                                 ...                        \n",
            "2903019    premium aviator sunglasses - hd polarized  bri...\n",
            "2903020    social distance stickers - set of 5 sticker sl...\n",
            "2903021    torr-to face shield pack of 5 with adjustable ...\n",
            "2903022    type-c to 3.5 mm for oppo r17 pro type-c to 3....\n",
            "2903023    kng orange polo tshirt  38  rib knit collar po...\n",
            "Name: combined_columns, Length: 2903024, dtype: object\n",
            "\n",
            "\n",
            "0          pete the cat bedtime blues doll  14.5 inch cat...\n",
            "1          the new yorker nyhm014 refrigerator magnet  2 ...\n",
            "2          the ultimate self-sufficiency handbook  a comp...\n",
            "3          amway nutrilite kids chewable iron tablets  10...\n",
            "4          teacher planner company a4 6 lesson academic t...\n",
            "                                 ...                        \n",
            "2903019    premium aviator sunglasses - hd polarized  bri...\n",
            "2903020    social distance stickers - set of 5 sticker sl...\n",
            "2903021    torr-to face shield pack of 5 with adjustable ...\n",
            "2903022    type-c to 3.5 mm for oppo r17 pro type-c to 3....\n",
            "2903023    kng orange polo tshirt  38  rib knit collar po...\n",
            "Name: combined_columns, Length: 2903024, dtype: object\n",
            "\n",
            "\n",
            "0          pete the cat bedtime blues doll  14.5 inch cat...\n",
            "1          the new yorker nyhm014 refrigerator magnet  2 ...\n",
            "2          the ultimate self-sufficiency handbook  a comp...\n",
            "3          amway nutrilite kids chewable iron tablets  10...\n",
            "4          teacher planner company a4 6 lesson academic t...\n",
            "                                 ...                        \n",
            "2903019    premium aviator sunglasses - hd polarized  bri...\n",
            "2903020    social distance stickers - set of 5 sticker sl...\n",
            "2903021    torr-to face shield pack of 5 with adjustable ...\n",
            "2903022    type-c to 3.5 mm for oppo r17 pro type-c to 3....\n",
            "2903023    kng orange polo tshirt  38  rib knit collar po...\n",
            "Name: combined_columns, Length: 2903024, dtype: object\n",
            "\n",
            "\n",
            "0          pete the cat bedtime blues doll  14.5 inch cat...\n",
            "1          the new yorker nyhm014 refrigerator magnet  2 ...\n",
            "2          the ultimate self-sufficiency handbook  a comp...\n",
            "3          amway nutrilite kids chewable iron tablets  10...\n",
            "4          teacher planner company a4 6 lesson academic t...\n",
            "                                 ...                        \n",
            "2903019    premium aviator sunglasses - hd polarized  bri...\n",
            "2903020    social distance stickers - set of 5 sticker sl...\n",
            "2903021    torr-to face shield pack of 5 with adjustable ...\n",
            "2903022    type-c to 3.5 mm for oppo r17 pro type-c to 3....\n",
            "2903023    kng orange polo tshirt  38  rib knit collar po...\n",
            "Name: combined_columns, Length: 2903024, dtype: object\n",
            "\n",
            "\n",
            "0          pete the cat bedtime blues doll  14.5 inch cat...\n",
            "1          the new yorker nyhm014 refrigerator magnet  2 ...\n",
            "2          the ultimate self sufficiency handbook  a comp...\n",
            "3          amway nutrilite kids chewable iron tablets  10...\n",
            "4          teacher planner company a4 6 lesson academic t...\n",
            "                                 ...                        \n",
            "2903019    premium aviator sunglasses   hd polarized  bri...\n",
            "2903020    social distance stickers   set of 5 sticker sl...\n",
            "2903021    torr to face shield pack of 5 with adjustable ...\n",
            "2903022    type c to 3.5 mm for oppo r17 pro type c to 3....\n",
            "2903023    kng orange polo tshirt  38  rib knit collar po...\n",
            "Name: combined_columns, Length: 2903024, dtype: object\n",
            "\n",
            "\n",
            "0          pete the cat bedtime blues doll  14.5 inch cat...\n",
            "1          the new yorker nyhm014 refrigerator magnet  2 ...\n",
            "2          the ultimate self sufficiency handbook  a comp...\n",
            "3          amway nutrilite kids chewable iron tablets  10...\n",
            "4          teacher planner company a4 6 lesson academic t...\n",
            "                                 ...                        \n",
            "2903019    premium aviator sunglasses   hd polarized  bri...\n",
            "2903020    social distance stickers   set of 5 sticker sl...\n",
            "2903021    torr to face shield pack of 5 with adjustable ...\n",
            "2903022    type c to 3.5 mm for oppo r17 pro type c to 3....\n",
            "2903023    kng orange polo tshirt  38  rib knit collar po...\n",
            "Name: combined_columns, Length: 2903024, dtype: object\n",
            "\n",
            "\n",
            "0          pete the cat bedtime blues doll  14.5 inch cat...\n",
            "1          the new yorker nyhm014 refrigerator magnet  2 ...\n",
            "2          the ultimate self sufficiency handbook  a comp...\n",
            "3          amway nutrilite kids chewable iron tablets  10...\n",
            "4          teacher planner company a4 6 lesson academic t...\n",
            "                                 ...                        \n",
            "2903019    premium aviator sunglasses   hd polarized  bri...\n",
            "2903020    social distance stickers   set of 5 sticker sl...\n",
            "2903021    torr to face shield pack of 5 with adjustable ...\n",
            "2903022    type c to 3.5 mm for oppo r17 pro type c to 3....\n",
            "2903023    kng orange polo tshirt  38  rib knit collar po...\n",
            "Name: combined_columns, Length: 2903024, dtype: object\n",
            "\n",
            "\n",
            "0          pete the cat bedtime blues doll  14.5 inch cat...\n",
            "1          the new yorker nyhm014 refrigerator magnet  2 ...\n",
            "2          the ultimate self sufficiency handbook  a comp...\n",
            "3          amway nutrilite kids chewable iron tablets  10...\n",
            "4          teacher planner company a4 6 lesson academic t...\n",
            "                                 ...                        \n",
            "2903019    premium aviator sunglasses   hd polarized  bri...\n",
            "2903020    social distance stickers   set of 5 sticker sl...\n",
            "2903021    torr to face shield pack of 5 with adjustable ...\n",
            "2903022    type c to 3.5 mm for oppo r17 pro type c to 3....\n",
            "2903023    kng orange polo tshirt  38  rib knit collar po...\n",
            "Name: combined_columns, Length: 2903024, dtype: object\n",
            "\n",
            "\n",
            "0          pete the cat bedtime blues doll  14.5 inch cat...\n",
            "1          the new yorker nyhm014 refrigerator magnet  2 ...\n",
            "2          the ultimate self sufficiency handbook  a comp...\n",
            "3          amway nutrilite kids chewable iron tablets  10...\n",
            "4          teacher planner company a4 6 lesson academic t...\n",
            "                                 ...                        \n",
            "2903019    premium aviator sunglasses   hd polarized  bri...\n",
            "2903020    social distance stickers   set of 5 sticker sl...\n",
            "2903021    torr to face shield pack of 5 with adjustable ...\n",
            "2903022    type c to 3.5 mm for oppo r17 pro type c to 3....\n",
            "2903023    kng orange polo tshirt  38  rib knit collar po...\n",
            "Name: combined_columns, Length: 2903024, dtype: object\n",
            "\n",
            "\n",
            "0          pete the cat bedtime blues doll  14.5 inch cat...\n",
            "1          the new yorker nyhm014 refrigerator magnet  2 ...\n",
            "2          the ultimate self sufficiency handbook  a comp...\n",
            "3          amway nutrilite kids chewable iron tablets  10...\n",
            "4          teacher planner company a4 6 lesson academic t...\n",
            "                                 ...                        \n",
            "2903019    premium aviator sunglasses   hd polarized  bri...\n",
            "2903020    social distance stickers   set of 5 sticker sl...\n",
            "2903021    torr to face shield pack of 5 with adjustable ...\n",
            "2903022    type c to 3.5 mm for oppo r17 pro type c to 3....\n",
            "2903023    kng orange polo tshirt  38  rib knit collar po...\n",
            "Name: combined_columns, Length: 2903024, dtype: object\n",
            "\n",
            "\n",
            "0          pete the cat bedtime blues doll  14.5 inch cat...\n",
            "1          the new yorker nyhm014 refrigerator magnet  2 ...\n",
            "2          the ultimate self sufficiency handbook  a comp...\n",
            "3          amway nutrilite kids chewable iron tablets  10...\n",
            "4          teacher planner company a4 6 lesson academic t...\n",
            "                                 ...                        \n",
            "2903019    premium aviator sunglasses   hd polarized  bri...\n",
            "2903020    social distance stickers   set of 5 sticker sl...\n",
            "2903021    torr to face shield pack of 5 with adjustable ...\n",
            "2903022    type c to 3.5 mm for oppo r17 pro type c to 3....\n",
            "2903023    kng orange polo tshirt  38  rib knit collar po...\n",
            "Name: combined_columns, Length: 2903024, dtype: object\n",
            "\n",
            "\n",
            "0          pete the cat bedtime blues doll  14.5 inch cat...\n",
            "1          the new yorker nyhm014 refrigerator magnet  2 ...\n",
            "2          the ultimate self sufficiency handbook  a comp...\n",
            "3          amway nutrilite kids chewable iron tablets  10...\n",
            "4          teacher planner company a4 6 lesson academic t...\n",
            "                                 ...                        \n",
            "2903019    premium aviator sunglasses   hd polarized  bri...\n",
            "2903020    social distance stickers   set of 5 sticker sl...\n",
            "2903021    torr to face shield pack of 5 with adjustable ...\n",
            "2903022    type c to 3.5 mm for oppo r17 pro type c to 3....\n",
            "2903023    kng orange polo tshirt  38  rib knit collar po...\n",
            "Name: combined_columns, Length: 2903024, dtype: object\n",
            "\n",
            "\n",
            "0          pete the cat bedtime blues doll  14.5 inch cat...\n",
            "1          the new yorker nyhm014 refrigerator magnet  2 ...\n",
            "2          the ultimate self sufficiency handbook  a comp...\n",
            "3          amway nutrilite kids chewable iron tablets  10...\n",
            "4          teacher planner company a4 6 lesson academic t...\n",
            "                                 ...                        \n",
            "2903019    premium aviator sunglasses   hd polarized  bri...\n",
            "2903020    social distance stickers   set of 5 sticker sl...\n",
            "2903021    torr to face shield pack of 5 with adjustable ...\n",
            "2903022    type c to 3.5 mm for oppo r17 pro type c to 3....\n",
            "2903023    kng orange polo tshirt  38  rib knit collar po...\n",
            "Name: combined_columns, Length: 2903024, dtype: object\n",
            "\n",
            "\n",
            "0          pete the cat bedtime blues doll  14.5 inch cat...\n",
            "1          the new yorker nyhm014 refrigerator magnet  2 ...\n",
            "2          the ultimate self sufficiency handbook  a comp...\n",
            "3          amway nutrilite kids chewable iron tablets  10...\n",
            "4          teacher planner company a4 6 lesson academic t...\n",
            "                                 ...                        \n",
            "2903019    premium aviator sunglasses   hd polarized  bri...\n",
            "2903020    social distance stickers   set of 5 sticker sl...\n",
            "2903021    torr to face shield pack of 5 with adjustable ...\n",
            "2903022    type c to 3.5 mm for oppo r17 pro type c to 3....\n",
            "2903023    kng orange polo tshirt  38  rib knit collar po...\n",
            "Name: combined_columns, Length: 2903024, dtype: object\n",
            "\n",
            "\n",
            "0          pete the cat bedtime blues doll  14.5 inch cat...\n",
            "1          the new yorker nyhm014 refrigerator magnet  2 ...\n",
            "2          the ultimate self sufficiency handbook  a comp...\n",
            "3          amway nutrilite kids chewable iron tablets  10...\n",
            "4          teacher planner company a4 6 lesson academic t...\n",
            "                                 ...                        \n",
            "2903019    premium aviator sunglasses   hd polarized  bri...\n",
            "2903020    social distance stickers   set of 5 sticker sl...\n",
            "2903021    torr to face shield pack of 5 with adjustable ...\n",
            "2903022    type c to 3.5 mm for oppo r17 pro type c to 3....\n",
            "2903023    kng orange polo tshirt  38  rib knit collar po...\n",
            "Name: combined_columns, Length: 2903024, dtype: object\n",
            "\n",
            "\n"
          ],
          "name": "stdout"
        },
        {
          "output_type": "execute_result",
          "data": {
            "text/html": [
              "<div>\n",
              "<style scoped>\n",
              "    .dataframe tbody tr th:only-of-type {\n",
              "        vertical-align: middle;\n",
              "    }\n",
              "\n",
              "    .dataframe tbody tr th {\n",
              "        vertical-align: top;\n",
              "    }\n",
              "\n",
              "    .dataframe thead th {\n",
              "        text-align: right;\n",
              "    }\n",
              "</style>\n",
              "<table border=\"1\" class=\"dataframe\">\n",
              "  <thead>\n",
              "    <tr style=\"text-align: right;\">\n",
              "      <th></th>\n",
              "      <th>combined_columns</th>\n",
              "      <th>BROWSE_NODE_ID</th>\n",
              "    </tr>\n",
              "  </thead>\n",
              "  <tbody>\n",
              "    <tr>\n",
              "      <th>0</th>\n",
              "      <td>pete the cat bedtime blues doll  14.5 inch cat...</td>\n",
              "      <td>0</td>\n",
              "    </tr>\n",
              "    <tr>\n",
              "      <th>1</th>\n",
              "      <td>the new yorker nyhm014 refrigerator magnet  2 ...</td>\n",
              "      <td>1</td>\n",
              "    </tr>\n",
              "    <tr>\n",
              "      <th>2</th>\n",
              "      <td>the ultimate self sufficiency handbook  a comp...</td>\n",
              "      <td>2</td>\n",
              "    </tr>\n",
              "    <tr>\n",
              "      <th>3</th>\n",
              "      <td>amway nutrilite kids chewable iron tablets  10...</td>\n",
              "      <td>3</td>\n",
              "    </tr>\n",
              "    <tr>\n",
              "      <th>4</th>\n",
              "      <td>teacher planner company a4 6 lesson academic t...</td>\n",
              "      <td>4</td>\n",
              "    </tr>\n",
              "    <tr>\n",
              "      <th>...</th>\n",
              "      <td>...</td>\n",
              "      <td>...</td>\n",
              "    </tr>\n",
              "    <tr>\n",
              "      <th>2903019</th>\n",
              "      <td>premium aviator sunglasses   hd polarized  bri...</td>\n",
              "      <td>1040</td>\n",
              "    </tr>\n",
              "    <tr>\n",
              "      <th>2903020</th>\n",
              "      <td>social distance stickers   set of 5 sticker sl...</td>\n",
              "      <td>15199</td>\n",
              "    </tr>\n",
              "    <tr>\n",
              "      <th>2903021</th>\n",
              "      <td>torr to face shield pack of 5 with adjustable ...</td>\n",
              "      <td>1044933</td>\n",
              "    </tr>\n",
              "    <tr>\n",
              "      <th>2903022</th>\n",
              "      <td>type c to 3.5 mm for oppo r17 pro type c to 3....</td>\n",
              "      <td>14790</td>\n",
              "    </tr>\n",
              "    <tr>\n",
              "      <th>2903023</th>\n",
              "      <td>kng orange polo tshirt  38  rib knit collar po...</td>\n",
              "      <td>1213</td>\n",
              "    </tr>\n",
              "  </tbody>\n",
              "</table>\n",
              "<p>2903024 rows × 2 columns</p>\n",
              "</div>"
            ],
            "text/plain": [
              "                                          combined_columns  BROWSE_NODE_ID\n",
              "0        pete the cat bedtime blues doll  14.5 inch cat...               0\n",
              "1        the new yorker nyhm014 refrigerator magnet  2 ...               1\n",
              "2        the ultimate self sufficiency handbook  a comp...               2\n",
              "3        amway nutrilite kids chewable iron tablets  10...               3\n",
              "4        teacher planner company a4 6 lesson academic t...               4\n",
              "...                                                    ...             ...\n",
              "2903019  premium aviator sunglasses   hd polarized  bri...            1040\n",
              "2903020  social distance stickers   set of 5 sticker sl...           15199\n",
              "2903021  torr to face shield pack of 5 with adjustable ...         1044933\n",
              "2903022  type c to 3.5 mm for oppo r17 pro type c to 3....           14790\n",
              "2903023  kng orange polo tshirt  38  rib knit collar po...            1213\n",
              "\n",
              "[2903024 rows x 2 columns]"
            ]
          },
          "metadata": {
            "tags": []
          },
          "execution_count": 47
        }
      ]
    },
    {
      "cell_type": "code",
      "metadata": {
        "id": "8A43Mm_yH12M"
      },
      "source": [
        "\n",
        "df2.to_csv(\"/content/drive/MyDrive/amaon ml challenge/dataset/combinedColumnsPuncsRemoved.csv\",na_rep=\" \")\n"
      ],
      "execution_count": null,
      "outputs": []
    },
    {
      "cell_type": "code",
      "metadata": {
        "id": "nRgquKLLcaz9"
      },
      "source": [
        "import pandas as pd\n",
        "import numpy as np\n",
        "\n",
        "df2=pd.read_csv(\"/content/drive/MyDrive/amaon ml challenge/dataset/combinedColumnsPuncsRemoved.csv\")"
      ],
      "execution_count": null,
      "outputs": []
    },
    {
      "cell_type": "code",
      "metadata": {
        "id": "X1VIihG3ckUn"
      },
      "source": [
        "df2.replace(np.nan,\" \",inplace=True)"
      ],
      "execution_count": null,
      "outputs": []
    },
    {
      "cell_type": "code",
      "metadata": {
        "id": "6BEFpfy8qzb4"
      },
      "source": [
        "df2.drop(\"Unnamed: 0\",axis=1,inplace=True)"
      ],
      "execution_count": null,
      "outputs": []
    },
    {
      "cell_type": "code",
      "metadata": {
        "id": "jvQ7fntAyjGm"
      },
      "source": [
        "df3 = df2.drop_duplicates('combined_columns', keep='first')"
      ],
      "execution_count": null,
      "outputs": []
    },
    {
      "cell_type": "code",
      "metadata": {
        "id": "kbVhmszqzAgk"
      },
      "source": [
        "df3=df3.drop_duplicates('BROWSE_NODE_ID', keep='first')"
      ],
      "execution_count": null,
      "outputs": []
    },
    {
      "cell_type": "code",
      "metadata": {
        "colab": {
          "base_uri": "https://localhost:8080/"
        },
        "id": "-0QgjxoHzS9h",
        "outputId": "018946f5-e98f-4a16-ee8b-4e02fbfc2440"
      },
      "source": [
        "df3.shape"
      ],
      "execution_count": null,
      "outputs": [
        {
          "output_type": "execute_result",
          "data": {
            "text/plain": [
              "(9918, 2)"
            ]
          },
          "metadata": {
            "tags": []
          },
          "execution_count": 8
        }
      ]
    },
    {
      "cell_type": "code",
      "metadata": {
        "id": "xFjOehZVX_EJ"
      },
      "source": [
        "from sklearn.feature_extraction.text import CountVectorizer\n",
        "n_gram_range = (1, 1)\n",
        "stop_words = \"english\"\n",
        "\n",
        "count_vect = CountVectorizer()\n",
        "count = CountVectorizer(ngram_range=n_gram_range, stop_words=stop_words).fit(df2.combined_columns)\n",
        "candidates = count.get_feature_names()"
      ],
      "execution_count": null,
      "outputs": []
    },
    {
      "cell_type": "code",
      "metadata": {
        "colab": {
          "base_uri": "https://localhost:8080/"
        },
        "id": "6DtacVFn5hY-",
        "outputId": "112e8b5f-b4a1-46c3-f695-ebc921e0f80d"
      },
      "source": [
        "pip install sentence-transformers"
      ],
      "execution_count": null,
      "outputs": [
        {
          "output_type": "stream",
          "text": [
            "Collecting sentence-transformers\n",
            "  Downloading sentence-transformers-2.0.0.tar.gz (85 kB)\n",
            "\u001b[K     |████████████████████████████████| 85 kB 3.5 MB/s \n",
            "\u001b[?25hCollecting transformers<5.0.0,>=4.6.0\n",
            "  Downloading transformers-4.9.1-py3-none-any.whl (2.6 MB)\n",
            "\u001b[K     |████████████████████████████████| 2.6 MB 14.3 MB/s \n",
            "\u001b[?25hRequirement already satisfied: tqdm in /usr/local/lib/python3.7/dist-packages (from sentence-transformers) (4.41.1)\n",
            "Requirement already satisfied: torch>=1.6.0 in /usr/local/lib/python3.7/dist-packages (from sentence-transformers) (1.9.0+cu102)\n",
            "Requirement already satisfied: torchvision in /usr/local/lib/python3.7/dist-packages (from sentence-transformers) (0.10.0+cu102)\n",
            "Requirement already satisfied: numpy in /usr/local/lib/python3.7/dist-packages (from sentence-transformers) (1.19.5)\n",
            "Requirement already satisfied: scikit-learn in /usr/local/lib/python3.7/dist-packages (from sentence-transformers) (0.22.2.post1)\n",
            "Requirement already satisfied: scipy in /usr/local/lib/python3.7/dist-packages (from sentence-transformers) (1.4.1)\n",
            "Requirement already satisfied: nltk in /usr/local/lib/python3.7/dist-packages (from sentence-transformers) (3.2.5)\n",
            "Collecting sentencepiece\n",
            "  Downloading sentencepiece-0.1.96-cp37-cp37m-manylinux_2_17_x86_64.manylinux2014_x86_64.whl (1.2 MB)\n",
            "\u001b[K     |████████████████████████████████| 1.2 MB 58.8 MB/s \n",
            "\u001b[?25hCollecting huggingface-hub\n",
            "  Downloading huggingface_hub-0.0.15-py3-none-any.whl (43 kB)\n",
            "\u001b[K     |████████████████████████████████| 43 kB 2.5 MB/s \n",
            "\u001b[?25hRequirement already satisfied: typing-extensions in /usr/local/lib/python3.7/dist-packages (from torch>=1.6.0->sentence-transformers) (3.7.4.3)\n",
            "  Downloading huggingface_hub-0.0.12-py3-none-any.whl (37 kB)\n",
            "Collecting tokenizers<0.11,>=0.10.1\n",
            "  Downloading tokenizers-0.10.3-cp37-cp37m-manylinux_2_5_x86_64.manylinux1_x86_64.manylinux_2_12_x86_64.manylinux2010_x86_64.whl (3.3 MB)\n",
            "\u001b[K     |████████████████████████████████| 3.3 MB 49.3 MB/s \n",
            "\u001b[?25hRequirement already satisfied: regex!=2019.12.17 in /usr/local/lib/python3.7/dist-packages (from transformers<5.0.0,>=4.6.0->sentence-transformers) (2019.12.20)\n",
            "Collecting pyyaml>=5.1\n",
            "  Downloading PyYAML-5.4.1-cp37-cp37m-manylinux1_x86_64.whl (636 kB)\n",
            "\u001b[K     |████████████████████████████████| 636 kB 45.2 MB/s \n",
            "\u001b[?25hRequirement already satisfied: requests in /usr/local/lib/python3.7/dist-packages (from transformers<5.0.0,>=4.6.0->sentence-transformers) (2.23.0)\n",
            "Requirement already satisfied: packaging in /usr/local/lib/python3.7/dist-packages (from transformers<5.0.0,>=4.6.0->sentence-transformers) (21.0)\n",
            "Requirement already satisfied: importlib-metadata in /usr/local/lib/python3.7/dist-packages (from transformers<5.0.0,>=4.6.0->sentence-transformers) (4.6.1)\n",
            "Requirement already satisfied: filelock in /usr/local/lib/python3.7/dist-packages (from transformers<5.0.0,>=4.6.0->sentence-transformers) (3.0.12)\n",
            "Collecting sacremoses\n",
            "  Downloading sacremoses-0.0.45-py3-none-any.whl (895 kB)\n",
            "\u001b[K     |████████████████████████████████| 895 kB 39.1 MB/s \n",
            "\u001b[?25hRequirement already satisfied: pyparsing>=2.0.2 in /usr/local/lib/python3.7/dist-packages (from packaging->transformers<5.0.0,>=4.6.0->sentence-transformers) (2.4.7)\n",
            "Requirement already satisfied: zipp>=0.5 in /usr/local/lib/python3.7/dist-packages (from importlib-metadata->transformers<5.0.0,>=4.6.0->sentence-transformers) (3.5.0)\n",
            "Requirement already satisfied: six in /usr/local/lib/python3.7/dist-packages (from nltk->sentence-transformers) (1.15.0)\n",
            "Requirement already satisfied: idna<3,>=2.5 in /usr/local/lib/python3.7/dist-packages (from requests->transformers<5.0.0,>=4.6.0->sentence-transformers) (2.10)\n",
            "Requirement already satisfied: certifi>=2017.4.17 in /usr/local/lib/python3.7/dist-packages (from requests->transformers<5.0.0,>=4.6.0->sentence-transformers) (2021.5.30)\n",
            "Requirement already satisfied: urllib3!=1.25.0,!=1.25.1,<1.26,>=1.21.1 in /usr/local/lib/python3.7/dist-packages (from requests->transformers<5.0.0,>=4.6.0->sentence-transformers) (1.24.3)\n",
            "Requirement already satisfied: chardet<4,>=3.0.2 in /usr/local/lib/python3.7/dist-packages (from requests->transformers<5.0.0,>=4.6.0->sentence-transformers) (3.0.4)\n",
            "Requirement already satisfied: click in /usr/local/lib/python3.7/dist-packages (from sacremoses->transformers<5.0.0,>=4.6.0->sentence-transformers) (7.1.2)\n",
            "Requirement already satisfied: joblib in /usr/local/lib/python3.7/dist-packages (from sacremoses->transformers<5.0.0,>=4.6.0->sentence-transformers) (1.0.1)\n",
            "Requirement already satisfied: pillow>=5.3.0 in /usr/local/lib/python3.7/dist-packages (from torchvision->sentence-transformers) (7.1.2)\n",
            "Building wheels for collected packages: sentence-transformers\n",
            "  Building wheel for sentence-transformers (setup.py) ... \u001b[?25l\u001b[?25hdone\n",
            "  Created wheel for sentence-transformers: filename=sentence_transformers-2.0.0-py3-none-any.whl size=126709 sha256=945ec4fbcc93f3a0dedd393086e20fd4031dae619b5805f66e000d1048c8f412\n",
            "  Stored in directory: /root/.cache/pip/wheels/d1/c1/0f/faafd427f705c4b012274ba60d9a91d75830306811e1355293\n",
            "Successfully built sentence-transformers\n",
            "Installing collected packages: tokenizers, sacremoses, pyyaml, huggingface-hub, transformers, sentencepiece, sentence-transformers\n",
            "  Attempting uninstall: pyyaml\n",
            "    Found existing installation: PyYAML 3.13\n",
            "    Uninstalling PyYAML-3.13:\n",
            "      Successfully uninstalled PyYAML-3.13\n",
            "Successfully installed huggingface-hub-0.0.12 pyyaml-5.4.1 sacremoses-0.0.45 sentence-transformers-2.0.0 sentencepiece-0.1.96 tokenizers-0.10.3 transformers-4.9.1\n"
          ],
          "name": "stdout"
        }
      ]
    },
    {
      "cell_type": "code",
      "metadata": {
        "id": "eAMAea5s5cE4"
      },
      "source": [
        "\n",
        "from sentence_transformers import SentenceTransformer\n",
        "\n",
        "model = SentenceTransformer('distilbert-base-nli-mean-tokens')\n",
        "doc_embedding = model.encode(df2.combined_columns)\n",
        "candidate_embeddings = model.encode(candidates)"
      ],
      "execution_count": null,
      "outputs": []
    },
    {
      "cell_type": "code",
      "metadata": {
        "colab": {
          "base_uri": "https://localhost:8080/"
        },
        "id": "1gZK79PWbrsr",
        "outputId": "316b879e-0fbb-4337-abef-626b150c238c"
      },
      "source": [
        "from sklearn.feature_extraction.text import TfidfTransformer\n",
        "tfidf_transformer = TfidfTransformer()\n",
        "X_train_tfidf = tfidf_transformer.fit_transform(X_train_counts)\n",
        "X_train_tfidf.shape"
      ],
      "execution_count": null,
      "outputs": [
        {
          "output_type": "execute_result",
          "data": {
            "text/plain": [
              "(9918, 40343)"
            ]
          },
          "metadata": {
            "tags": []
          },
          "execution_count": 8
        }
      ]
    },
    {
      "cell_type": "code",
      "metadata": {
        "id": "CKW30uw-vPI9"
      },
      "source": [
        "from sklearn import model_selection, preprocessing, linear_model, naive_bayes, metrics, svm\n",
        "from sklearn.feature_extraction.text import TfidfVectorizer, CountVectorizer\n",
        "from sklearn import decomposition, ensemble"
      ],
      "execution_count": null,
      "outputs": []
    },
    {
      "cell_type": "code",
      "metadata": {
        "id": "xzivQqaQwWGD"
      },
      "source": [
        "from sklearn.naive_bayes import MultinomialNB\n",
        "clf = MultinomialNB().fit(X_train_tfidf,df3.BROWSE_NODE_ID)"
      ],
      "execution_count": null,
      "outputs": []
    },
    {
      "cell_type": "code",
      "metadata": {
        "id": "Z01FERwVuGKE"
      },
      "source": [
        "from sklearn.naive_bayes import MultinomialNB\n",
        "clf = MultinomialNB().fit(X_train_tfidf,df2.BROWSE_NODE_ID)"
      ],
      "execution_count": null,
      "outputs": []
    },
    {
      "cell_type": "code",
      "metadata": {
        "id": "vjXd20eauTF4"
      },
      "source": [
        ""
      ],
      "execution_count": null,
      "outputs": []
    }
  ]
}